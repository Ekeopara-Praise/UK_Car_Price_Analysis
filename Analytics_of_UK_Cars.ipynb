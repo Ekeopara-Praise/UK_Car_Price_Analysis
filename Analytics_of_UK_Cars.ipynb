{
 "cells": [
  {
   "cell_type": "markdown",
   "metadata": {},
   "source": [
    "# Statistical Analysis on Sales of Cars in Uk\n",
    "\n",
    "**Outline of study** \n",
    "\n",
    "- Step 1: Get data and cleanup \n",
    "- Step 2: Explore Data (asking useful questions) \n",
    "- Step 3: Perform correlation analysis on car prices vs car features\n",
    "- Step 4: Test that prices vary for different car models (Hypothesis testing)\n",
    "- Step 5: Predict car prices (using suitable performance matrices)\n",
    "- Step 6: Prepare your Report "
   ]
  },
  {
   "cell_type": "code",
   "execution_count": 1,
   "metadata": {},
   "outputs": [],
   "source": [
    "# import the libraries\n",
    "import pandas as pd\n",
    "import numpy as np\n",
    "import seaborn as sns\n",
    "import matplotlib.pyplot as plt\n",
    "%matplotlib inline"
   ]
  },
  {
   "cell_type": "markdown",
   "metadata": {},
   "source": [
    "### Step 1: Get data and Cleanup"
   ]
  },
  {
   "cell_type": "markdown",
   "metadata": {},
   "source": [
    "Here, we start by gathering all the separate data files "
   ]
  },
  {
   "cell_type": "code",
   "execution_count": 2,
   "metadata": {},
   "outputs": [],
   "source": [
    "audi_df = pd.read_csv('audi.csv') \n",
    "cclass_df = pd.read_csv('cclass.csv')\n",
    "ford_df = pd.read_csv('ford.csv')\n",
    "merc_df = pd.read_csv('merc.csv')\n",
    "bmw_df = pd.read_csv('bmw.csv')\n",
    "toyota_df = pd.read_csv('toyota.csv')\n",
    "vw_df = pd.read_csv('vw.csv')\n",
    "hyundi_df = pd.read_csv('hyundi.csv')\n",
    "focus_df = pd.read_csv('focus.csv')\n",
    "skoda_df = pd.read_csv('skoda.csv')\n",
    "vauxhall_df = pd.read_csv('vauxhall.csv')"
   ]
  },
  {
   "cell_type": "markdown",
   "metadata": {},
   "source": [
    "At this stage, we start viewing the separate data files indidually so as to have an overview of them and to understand their shapes (number of columns and rows)"
   ]
  },
  {
   "cell_type": "code",
   "execution_count": 3,
   "metadata": {
    "scrolled": false
   },
   "outputs": [
    {
     "data": {
      "text/html": [
       "<div>\n",
       "<style scoped>\n",
       "    .dataframe tbody tr th:only-of-type {\n",
       "        vertical-align: middle;\n",
       "    }\n",
       "\n",
       "    .dataframe tbody tr th {\n",
       "        vertical-align: top;\n",
       "    }\n",
       "\n",
       "    .dataframe thead th {\n",
       "        text-align: right;\n",
       "    }\n",
       "</style>\n",
       "<table border=\"1\" class=\"dataframe\">\n",
       "  <thead>\n",
       "    <tr style=\"text-align: right;\">\n",
       "      <th></th>\n",
       "      <th>model</th>\n",
       "      <th>year</th>\n",
       "      <th>price</th>\n",
       "      <th>transmission</th>\n",
       "      <th>mileage</th>\n",
       "      <th>fuelType</th>\n",
       "      <th>tax</th>\n",
       "      <th>mpg</th>\n",
       "      <th>engineSize</th>\n",
       "    </tr>\n",
       "  </thead>\n",
       "  <tbody>\n",
       "    <tr>\n",
       "      <th>0</th>\n",
       "      <td>A1</td>\n",
       "      <td>2017</td>\n",
       "      <td>12500</td>\n",
       "      <td>Manual</td>\n",
       "      <td>15735</td>\n",
       "      <td>Petrol</td>\n",
       "      <td>150</td>\n",
       "      <td>55.4</td>\n",
       "      <td>1.4</td>\n",
       "    </tr>\n",
       "    <tr>\n",
       "      <th>1</th>\n",
       "      <td>A6</td>\n",
       "      <td>2016</td>\n",
       "      <td>16500</td>\n",
       "      <td>Automatic</td>\n",
       "      <td>36203</td>\n",
       "      <td>Diesel</td>\n",
       "      <td>20</td>\n",
       "      <td>64.2</td>\n",
       "      <td>2.0</td>\n",
       "    </tr>\n",
       "    <tr>\n",
       "      <th>2</th>\n",
       "      <td>A1</td>\n",
       "      <td>2016</td>\n",
       "      <td>11000</td>\n",
       "      <td>Manual</td>\n",
       "      <td>29946</td>\n",
       "      <td>Petrol</td>\n",
       "      <td>30</td>\n",
       "      <td>55.4</td>\n",
       "      <td>1.4</td>\n",
       "    </tr>\n",
       "    <tr>\n",
       "      <th>3</th>\n",
       "      <td>A4</td>\n",
       "      <td>2017</td>\n",
       "      <td>16800</td>\n",
       "      <td>Automatic</td>\n",
       "      <td>25952</td>\n",
       "      <td>Diesel</td>\n",
       "      <td>145</td>\n",
       "      <td>67.3</td>\n",
       "      <td>2.0</td>\n",
       "    </tr>\n",
       "    <tr>\n",
       "      <th>4</th>\n",
       "      <td>A3</td>\n",
       "      <td>2019</td>\n",
       "      <td>17300</td>\n",
       "      <td>Manual</td>\n",
       "      <td>1998</td>\n",
       "      <td>Petrol</td>\n",
       "      <td>145</td>\n",
       "      <td>49.6</td>\n",
       "      <td>1.0</td>\n",
       "    </tr>\n",
       "  </tbody>\n",
       "</table>\n",
       "</div>"
      ],
      "text/plain": [
       "  model  year  price transmission  mileage fuelType  tax   mpg  engineSize\n",
       "0    A1  2017  12500       Manual    15735   Petrol  150  55.4         1.4\n",
       "1    A6  2016  16500    Automatic    36203   Diesel   20  64.2         2.0\n",
       "2    A1  2016  11000       Manual    29946   Petrol   30  55.4         1.4\n",
       "3    A4  2017  16800    Automatic    25952   Diesel  145  67.3         2.0\n",
       "4    A3  2019  17300       Manual     1998   Petrol  145  49.6         1.0"
      ]
     },
     "execution_count": 3,
     "metadata": {},
     "output_type": "execute_result"
    }
   ],
   "source": [
    "# audi_df cars\n",
    "audi_df.head()"
   ]
  },
  {
   "cell_type": "code",
   "execution_count": 4,
   "metadata": {},
   "outputs": [
    {
     "data": {
      "text/plain": [
       " A3     1929\n",
       " Q3     1417\n",
       " A4     1381\n",
       " A1     1347\n",
       " A5      882\n",
       " Q5      877\n",
       " Q2      822\n",
       " A6      748\n",
       " Q7      397\n",
       " TT      336\n",
       " A7      122\n",
       " A8      118\n",
       " Q8       69\n",
       " RS6      39\n",
       " RS3      33\n",
       " RS4      31\n",
       " RS5      29\n",
       " R8       28\n",
       " S3       18\n",
       " SQ5      16\n",
       " S4       12\n",
       " SQ7       8\n",
       " S8        4\n",
       " S5        3\n",
       " RS7       1\n",
       " A2        1\n",
       "Name: model, dtype: int64"
      ]
     },
     "execution_count": 4,
     "metadata": {},
     "output_type": "execute_result"
    }
   ],
   "source": [
    "audi_df['model'].value_counts()"
   ]
  },
  {
   "cell_type": "code",
   "execution_count": 5,
   "metadata": {
    "scrolled": true
   },
   "outputs": [
    {
     "data": {
      "text/plain": [
       "(10668, 9)"
      ]
     },
     "execution_count": 5,
     "metadata": {},
     "output_type": "execute_result"
    }
   ],
   "source": [
    "# shape of data\n",
    "audi_df.shape"
   ]
  },
  {
   "cell_type": "code",
   "execution_count": 6,
   "metadata": {},
   "outputs": [
    {
     "data": {
      "text/html": [
       "<div>\n",
       "<style scoped>\n",
       "    .dataframe tbody tr th:only-of-type {\n",
       "        vertical-align: middle;\n",
       "    }\n",
       "\n",
       "    .dataframe tbody tr th {\n",
       "        vertical-align: top;\n",
       "    }\n",
       "\n",
       "    .dataframe thead th {\n",
       "        text-align: right;\n",
       "    }\n",
       "</style>\n",
       "<table border=\"1\" class=\"dataframe\">\n",
       "  <thead>\n",
       "    <tr style=\"text-align: right;\">\n",
       "      <th></th>\n",
       "      <th>model</th>\n",
       "      <th>year</th>\n",
       "      <th>price</th>\n",
       "      <th>transmission</th>\n",
       "      <th>mileage</th>\n",
       "      <th>fuelType</th>\n",
       "      <th>engineSize</th>\n",
       "    </tr>\n",
       "  </thead>\n",
       "  <tbody>\n",
       "    <tr>\n",
       "      <th>0</th>\n",
       "      <td>C Class</td>\n",
       "      <td>2020</td>\n",
       "      <td>30495</td>\n",
       "      <td>Automatic</td>\n",
       "      <td>1200</td>\n",
       "      <td>Diesel</td>\n",
       "      <td>2.0</td>\n",
       "    </tr>\n",
       "    <tr>\n",
       "      <th>1</th>\n",
       "      <td>C Class</td>\n",
       "      <td>2020</td>\n",
       "      <td>29989</td>\n",
       "      <td>Automatic</td>\n",
       "      <td>1000</td>\n",
       "      <td>Petrol</td>\n",
       "      <td>1.5</td>\n",
       "    </tr>\n",
       "    <tr>\n",
       "      <th>2</th>\n",
       "      <td>C Class</td>\n",
       "      <td>2020</td>\n",
       "      <td>37899</td>\n",
       "      <td>Automatic</td>\n",
       "      <td>500</td>\n",
       "      <td>Diesel</td>\n",
       "      <td>2.0</td>\n",
       "    </tr>\n",
       "    <tr>\n",
       "      <th>3</th>\n",
       "      <td>C Class</td>\n",
       "      <td>2019</td>\n",
       "      <td>30399</td>\n",
       "      <td>Automatic</td>\n",
       "      <td>5000</td>\n",
       "      <td>Diesel</td>\n",
       "      <td>2.0</td>\n",
       "    </tr>\n",
       "    <tr>\n",
       "      <th>4</th>\n",
       "      <td>C Class</td>\n",
       "      <td>2019</td>\n",
       "      <td>29899</td>\n",
       "      <td>Automatic</td>\n",
       "      <td>4500</td>\n",
       "      <td>Diesel</td>\n",
       "      <td>2.0</td>\n",
       "    </tr>\n",
       "  </tbody>\n",
       "</table>\n",
       "</div>"
      ],
      "text/plain": [
       "      model  year  price transmission  mileage fuelType  engineSize\n",
       "0   C Class  2020  30495    Automatic     1200   Diesel         2.0\n",
       "1   C Class  2020  29989    Automatic     1000   Petrol         1.5\n",
       "2   C Class  2020  37899    Automatic      500   Diesel         2.0\n",
       "3   C Class  2019  30399    Automatic     5000   Diesel         2.0\n",
       "4   C Class  2019  29899    Automatic     4500   Diesel         2.0"
      ]
     },
     "execution_count": 6,
     "metadata": {},
     "output_type": "execute_result"
    }
   ],
   "source": [
    "cclass_df.head()"
   ]
  },
  {
   "cell_type": "code",
   "execution_count": 7,
   "metadata": {},
   "outputs": [
    {
     "data": {
      "text/plain": [
       "(3899, 7)"
      ]
     },
     "execution_count": 7,
     "metadata": {},
     "output_type": "execute_result"
    }
   ],
   "source": [
    "cclass_df.shape"
   ]
  },
  {
   "cell_type": "code",
   "execution_count": 8,
   "metadata": {},
   "outputs": [
    {
     "data": {
      "text/html": [
       "<div>\n",
       "<style scoped>\n",
       "    .dataframe tbody tr th:only-of-type {\n",
       "        vertical-align: middle;\n",
       "    }\n",
       "\n",
       "    .dataframe tbody tr th {\n",
       "        vertical-align: top;\n",
       "    }\n",
       "\n",
       "    .dataframe thead th {\n",
       "        text-align: right;\n",
       "    }\n",
       "</style>\n",
       "<table border=\"1\" class=\"dataframe\">\n",
       "  <thead>\n",
       "    <tr style=\"text-align: right;\">\n",
       "      <th></th>\n",
       "      <th>model</th>\n",
       "      <th>year</th>\n",
       "      <th>price</th>\n",
       "      <th>transmission</th>\n",
       "      <th>mileage</th>\n",
       "      <th>fuelType</th>\n",
       "      <th>tax</th>\n",
       "      <th>mpg</th>\n",
       "      <th>engineSize</th>\n",
       "    </tr>\n",
       "  </thead>\n",
       "  <tbody>\n",
       "    <tr>\n",
       "      <th>0</th>\n",
       "      <td>Fiesta</td>\n",
       "      <td>2017</td>\n",
       "      <td>12000</td>\n",
       "      <td>Automatic</td>\n",
       "      <td>15944</td>\n",
       "      <td>Petrol</td>\n",
       "      <td>150</td>\n",
       "      <td>57.7</td>\n",
       "      <td>1.0</td>\n",
       "    </tr>\n",
       "    <tr>\n",
       "      <th>1</th>\n",
       "      <td>Focus</td>\n",
       "      <td>2018</td>\n",
       "      <td>14000</td>\n",
       "      <td>Manual</td>\n",
       "      <td>9083</td>\n",
       "      <td>Petrol</td>\n",
       "      <td>150</td>\n",
       "      <td>57.7</td>\n",
       "      <td>1.0</td>\n",
       "    </tr>\n",
       "    <tr>\n",
       "      <th>2</th>\n",
       "      <td>Focus</td>\n",
       "      <td>2017</td>\n",
       "      <td>13000</td>\n",
       "      <td>Manual</td>\n",
       "      <td>12456</td>\n",
       "      <td>Petrol</td>\n",
       "      <td>150</td>\n",
       "      <td>57.7</td>\n",
       "      <td>1.0</td>\n",
       "    </tr>\n",
       "    <tr>\n",
       "      <th>3</th>\n",
       "      <td>Fiesta</td>\n",
       "      <td>2019</td>\n",
       "      <td>17500</td>\n",
       "      <td>Manual</td>\n",
       "      <td>10460</td>\n",
       "      <td>Petrol</td>\n",
       "      <td>145</td>\n",
       "      <td>40.3</td>\n",
       "      <td>1.5</td>\n",
       "    </tr>\n",
       "    <tr>\n",
       "      <th>4</th>\n",
       "      <td>Fiesta</td>\n",
       "      <td>2019</td>\n",
       "      <td>16500</td>\n",
       "      <td>Automatic</td>\n",
       "      <td>1482</td>\n",
       "      <td>Petrol</td>\n",
       "      <td>145</td>\n",
       "      <td>48.7</td>\n",
       "      <td>1.0</td>\n",
       "    </tr>\n",
       "  </tbody>\n",
       "</table>\n",
       "</div>"
      ],
      "text/plain": [
       "     model  year  price transmission  mileage fuelType  tax   mpg  engineSize\n",
       "0   Fiesta  2017  12000    Automatic    15944   Petrol  150  57.7         1.0\n",
       "1    Focus  2018  14000       Manual     9083   Petrol  150  57.7         1.0\n",
       "2    Focus  2017  13000       Manual    12456   Petrol  150  57.7         1.0\n",
       "3   Fiesta  2019  17500       Manual    10460   Petrol  145  40.3         1.5\n",
       "4   Fiesta  2019  16500    Automatic     1482   Petrol  145  48.7         1.0"
      ]
     },
     "execution_count": 8,
     "metadata": {},
     "output_type": "execute_result"
    }
   ],
   "source": [
    "ford_df.head()"
   ]
  },
  {
   "cell_type": "code",
   "execution_count": 9,
   "metadata": {},
   "outputs": [
    {
     "data": {
      "text/plain": [
       "(17965, 9)"
      ]
     },
     "execution_count": 9,
     "metadata": {},
     "output_type": "execute_result"
    }
   ],
   "source": [
    "ford_df.shape"
   ]
  },
  {
   "cell_type": "code",
   "execution_count": 10,
   "metadata": {},
   "outputs": [
    {
     "data": {
      "text/html": [
       "<div>\n",
       "<style scoped>\n",
       "    .dataframe tbody tr th:only-of-type {\n",
       "        vertical-align: middle;\n",
       "    }\n",
       "\n",
       "    .dataframe tbody tr th {\n",
       "        vertical-align: top;\n",
       "    }\n",
       "\n",
       "    .dataframe thead th {\n",
       "        text-align: right;\n",
       "    }\n",
       "</style>\n",
       "<table border=\"1\" class=\"dataframe\">\n",
       "  <thead>\n",
       "    <tr style=\"text-align: right;\">\n",
       "      <th></th>\n",
       "      <th>model</th>\n",
       "      <th>year</th>\n",
       "      <th>price</th>\n",
       "      <th>transmission</th>\n",
       "      <th>mileage</th>\n",
       "      <th>fuelType</th>\n",
       "      <th>tax</th>\n",
       "      <th>mpg</th>\n",
       "      <th>engineSize</th>\n",
       "    </tr>\n",
       "  </thead>\n",
       "  <tbody>\n",
       "    <tr>\n",
       "      <th>0</th>\n",
       "      <td>SLK</td>\n",
       "      <td>2005</td>\n",
       "      <td>5200</td>\n",
       "      <td>Automatic</td>\n",
       "      <td>63000</td>\n",
       "      <td>Petrol</td>\n",
       "      <td>325</td>\n",
       "      <td>32.1</td>\n",
       "      <td>1.8</td>\n",
       "    </tr>\n",
       "    <tr>\n",
       "      <th>1</th>\n",
       "      <td>S Class</td>\n",
       "      <td>2017</td>\n",
       "      <td>34948</td>\n",
       "      <td>Automatic</td>\n",
       "      <td>27000</td>\n",
       "      <td>Hybrid</td>\n",
       "      <td>20</td>\n",
       "      <td>61.4</td>\n",
       "      <td>2.1</td>\n",
       "    </tr>\n",
       "    <tr>\n",
       "      <th>2</th>\n",
       "      <td>SL CLASS</td>\n",
       "      <td>2016</td>\n",
       "      <td>49948</td>\n",
       "      <td>Automatic</td>\n",
       "      <td>6200</td>\n",
       "      <td>Petrol</td>\n",
       "      <td>555</td>\n",
       "      <td>28.0</td>\n",
       "      <td>5.5</td>\n",
       "    </tr>\n",
       "    <tr>\n",
       "      <th>3</th>\n",
       "      <td>G Class</td>\n",
       "      <td>2016</td>\n",
       "      <td>61948</td>\n",
       "      <td>Automatic</td>\n",
       "      <td>16000</td>\n",
       "      <td>Petrol</td>\n",
       "      <td>325</td>\n",
       "      <td>30.4</td>\n",
       "      <td>4.0</td>\n",
       "    </tr>\n",
       "    <tr>\n",
       "      <th>4</th>\n",
       "      <td>G Class</td>\n",
       "      <td>2016</td>\n",
       "      <td>73948</td>\n",
       "      <td>Automatic</td>\n",
       "      <td>4000</td>\n",
       "      <td>Petrol</td>\n",
       "      <td>325</td>\n",
       "      <td>30.1</td>\n",
       "      <td>4.0</td>\n",
       "    </tr>\n",
       "  </tbody>\n",
       "</table>\n",
       "</div>"
      ],
      "text/plain": [
       "       model  year  price transmission  mileage fuelType  tax   mpg  \\\n",
       "0        SLK  2005   5200    Automatic    63000   Petrol  325  32.1   \n",
       "1    S Class  2017  34948    Automatic    27000   Hybrid   20  61.4   \n",
       "2   SL CLASS  2016  49948    Automatic     6200   Petrol  555  28.0   \n",
       "3    G Class  2016  61948    Automatic    16000   Petrol  325  30.4   \n",
       "4    G Class  2016  73948    Automatic     4000   Petrol  325  30.1   \n",
       "\n",
       "   engineSize  \n",
       "0         1.8  \n",
       "1         2.1  \n",
       "2         5.5  \n",
       "3         4.0  \n",
       "4         4.0  "
      ]
     },
     "execution_count": 10,
     "metadata": {},
     "output_type": "execute_result"
    }
   ],
   "source": [
    "merc_df.head()"
   ]
  },
  {
   "cell_type": "code",
   "execution_count": 11,
   "metadata": {},
   "outputs": [
    {
     "data": {
      "text/plain": [
       "(13119, 9)"
      ]
     },
     "execution_count": 11,
     "metadata": {},
     "output_type": "execute_result"
    }
   ],
   "source": [
    "merc_df.shape"
   ]
  },
  {
   "cell_type": "code",
   "execution_count": 12,
   "metadata": {
    "scrolled": true
   },
   "outputs": [
    {
     "data": {
      "text/html": [
       "<div>\n",
       "<style scoped>\n",
       "    .dataframe tbody tr th:only-of-type {\n",
       "        vertical-align: middle;\n",
       "    }\n",
       "\n",
       "    .dataframe tbody tr th {\n",
       "        vertical-align: top;\n",
       "    }\n",
       "\n",
       "    .dataframe thead th {\n",
       "        text-align: right;\n",
       "    }\n",
       "</style>\n",
       "<table border=\"1\" class=\"dataframe\">\n",
       "  <thead>\n",
       "    <tr style=\"text-align: right;\">\n",
       "      <th></th>\n",
       "      <th>model</th>\n",
       "      <th>year</th>\n",
       "      <th>price</th>\n",
       "      <th>transmission</th>\n",
       "      <th>mileage</th>\n",
       "      <th>fuelType</th>\n",
       "      <th>tax</th>\n",
       "      <th>mpg</th>\n",
       "      <th>engineSize</th>\n",
       "    </tr>\n",
       "  </thead>\n",
       "  <tbody>\n",
       "    <tr>\n",
       "      <th>0</th>\n",
       "      <td>5 Series</td>\n",
       "      <td>2014</td>\n",
       "      <td>11200</td>\n",
       "      <td>Automatic</td>\n",
       "      <td>67068</td>\n",
       "      <td>Diesel</td>\n",
       "      <td>125</td>\n",
       "      <td>57.6</td>\n",
       "      <td>2.0</td>\n",
       "    </tr>\n",
       "    <tr>\n",
       "      <th>1</th>\n",
       "      <td>6 Series</td>\n",
       "      <td>2018</td>\n",
       "      <td>27000</td>\n",
       "      <td>Automatic</td>\n",
       "      <td>14827</td>\n",
       "      <td>Petrol</td>\n",
       "      <td>145</td>\n",
       "      <td>42.8</td>\n",
       "      <td>2.0</td>\n",
       "    </tr>\n",
       "    <tr>\n",
       "      <th>2</th>\n",
       "      <td>5 Series</td>\n",
       "      <td>2016</td>\n",
       "      <td>16000</td>\n",
       "      <td>Automatic</td>\n",
       "      <td>62794</td>\n",
       "      <td>Diesel</td>\n",
       "      <td>160</td>\n",
       "      <td>51.4</td>\n",
       "      <td>3.0</td>\n",
       "    </tr>\n",
       "    <tr>\n",
       "      <th>3</th>\n",
       "      <td>1 Series</td>\n",
       "      <td>2017</td>\n",
       "      <td>12750</td>\n",
       "      <td>Automatic</td>\n",
       "      <td>26676</td>\n",
       "      <td>Diesel</td>\n",
       "      <td>145</td>\n",
       "      <td>72.4</td>\n",
       "      <td>1.5</td>\n",
       "    </tr>\n",
       "    <tr>\n",
       "      <th>4</th>\n",
       "      <td>7 Series</td>\n",
       "      <td>2014</td>\n",
       "      <td>14500</td>\n",
       "      <td>Automatic</td>\n",
       "      <td>39554</td>\n",
       "      <td>Diesel</td>\n",
       "      <td>160</td>\n",
       "      <td>50.4</td>\n",
       "      <td>3.0</td>\n",
       "    </tr>\n",
       "  </tbody>\n",
       "</table>\n",
       "</div>"
      ],
      "text/plain": [
       "       model  year  price transmission  mileage fuelType  tax   mpg  \\\n",
       "0   5 Series  2014  11200    Automatic    67068   Diesel  125  57.6   \n",
       "1   6 Series  2018  27000    Automatic    14827   Petrol  145  42.8   \n",
       "2   5 Series  2016  16000    Automatic    62794   Diesel  160  51.4   \n",
       "3   1 Series  2017  12750    Automatic    26676   Diesel  145  72.4   \n",
       "4   7 Series  2014  14500    Automatic    39554   Diesel  160  50.4   \n",
       "\n",
       "   engineSize  \n",
       "0         2.0  \n",
       "1         2.0  \n",
       "2         3.0  \n",
       "3         1.5  \n",
       "4         3.0  "
      ]
     },
     "execution_count": 12,
     "metadata": {},
     "output_type": "execute_result"
    }
   ],
   "source": [
    "bmw_df.head()"
   ]
  },
  {
   "cell_type": "code",
   "execution_count": 13,
   "metadata": {},
   "outputs": [
    {
     "data": {
      "text/plain": [
       "(10781, 9)"
      ]
     },
     "execution_count": 13,
     "metadata": {},
     "output_type": "execute_result"
    }
   ],
   "source": [
    "bmw_df.shape"
   ]
  },
  {
   "cell_type": "code",
   "execution_count": 14,
   "metadata": {
    "scrolled": true
   },
   "outputs": [
    {
     "data": {
      "text/html": [
       "<div>\n",
       "<style scoped>\n",
       "    .dataframe tbody tr th:only-of-type {\n",
       "        vertical-align: middle;\n",
       "    }\n",
       "\n",
       "    .dataframe tbody tr th {\n",
       "        vertical-align: top;\n",
       "    }\n",
       "\n",
       "    .dataframe thead th {\n",
       "        text-align: right;\n",
       "    }\n",
       "</style>\n",
       "<table border=\"1\" class=\"dataframe\">\n",
       "  <thead>\n",
       "    <tr style=\"text-align: right;\">\n",
       "      <th></th>\n",
       "      <th>model</th>\n",
       "      <th>year</th>\n",
       "      <th>price</th>\n",
       "      <th>transmission</th>\n",
       "      <th>mileage</th>\n",
       "      <th>fuelType</th>\n",
       "      <th>tax</th>\n",
       "      <th>mpg</th>\n",
       "      <th>engineSize</th>\n",
       "    </tr>\n",
       "  </thead>\n",
       "  <tbody>\n",
       "    <tr>\n",
       "      <th>0</th>\n",
       "      <td>GT86</td>\n",
       "      <td>2016</td>\n",
       "      <td>16000</td>\n",
       "      <td>Manual</td>\n",
       "      <td>24089</td>\n",
       "      <td>Petrol</td>\n",
       "      <td>265</td>\n",
       "      <td>36.2</td>\n",
       "      <td>2.0</td>\n",
       "    </tr>\n",
       "    <tr>\n",
       "      <th>1</th>\n",
       "      <td>GT86</td>\n",
       "      <td>2017</td>\n",
       "      <td>15995</td>\n",
       "      <td>Manual</td>\n",
       "      <td>18615</td>\n",
       "      <td>Petrol</td>\n",
       "      <td>145</td>\n",
       "      <td>36.2</td>\n",
       "      <td>2.0</td>\n",
       "    </tr>\n",
       "    <tr>\n",
       "      <th>2</th>\n",
       "      <td>GT86</td>\n",
       "      <td>2015</td>\n",
       "      <td>13998</td>\n",
       "      <td>Manual</td>\n",
       "      <td>27469</td>\n",
       "      <td>Petrol</td>\n",
       "      <td>265</td>\n",
       "      <td>36.2</td>\n",
       "      <td>2.0</td>\n",
       "    </tr>\n",
       "    <tr>\n",
       "      <th>3</th>\n",
       "      <td>GT86</td>\n",
       "      <td>2017</td>\n",
       "      <td>18998</td>\n",
       "      <td>Manual</td>\n",
       "      <td>14736</td>\n",
       "      <td>Petrol</td>\n",
       "      <td>150</td>\n",
       "      <td>36.2</td>\n",
       "      <td>2.0</td>\n",
       "    </tr>\n",
       "    <tr>\n",
       "      <th>4</th>\n",
       "      <td>GT86</td>\n",
       "      <td>2017</td>\n",
       "      <td>17498</td>\n",
       "      <td>Manual</td>\n",
       "      <td>36284</td>\n",
       "      <td>Petrol</td>\n",
       "      <td>145</td>\n",
       "      <td>36.2</td>\n",
       "      <td>2.0</td>\n",
       "    </tr>\n",
       "  </tbody>\n",
       "</table>\n",
       "</div>"
      ],
      "text/plain": [
       "   model  year  price transmission  mileage fuelType  tax   mpg  engineSize\n",
       "0   GT86  2016  16000       Manual    24089   Petrol  265  36.2         2.0\n",
       "1   GT86  2017  15995       Manual    18615   Petrol  145  36.2         2.0\n",
       "2   GT86  2015  13998       Manual    27469   Petrol  265  36.2         2.0\n",
       "3   GT86  2017  18998       Manual    14736   Petrol  150  36.2         2.0\n",
       "4   GT86  2017  17498       Manual    36284   Petrol  145  36.2         2.0"
      ]
     },
     "execution_count": 14,
     "metadata": {},
     "output_type": "execute_result"
    }
   ],
   "source": [
    "toyota_df.head()"
   ]
  },
  {
   "cell_type": "code",
   "execution_count": 15,
   "metadata": {},
   "outputs": [
    {
     "data": {
      "text/plain": [
       "(6738, 9)"
      ]
     },
     "execution_count": 15,
     "metadata": {},
     "output_type": "execute_result"
    }
   ],
   "source": [
    "toyota_df.shape"
   ]
  },
  {
   "cell_type": "code",
   "execution_count": 16,
   "metadata": {},
   "outputs": [
    {
     "data": {
      "text/html": [
       "<div>\n",
       "<style scoped>\n",
       "    .dataframe tbody tr th:only-of-type {\n",
       "        vertical-align: middle;\n",
       "    }\n",
       "\n",
       "    .dataframe tbody tr th {\n",
       "        vertical-align: top;\n",
       "    }\n",
       "\n",
       "    .dataframe thead th {\n",
       "        text-align: right;\n",
       "    }\n",
       "</style>\n",
       "<table border=\"1\" class=\"dataframe\">\n",
       "  <thead>\n",
       "    <tr style=\"text-align: right;\">\n",
       "      <th></th>\n",
       "      <th>model</th>\n",
       "      <th>year</th>\n",
       "      <th>price</th>\n",
       "      <th>transmission</th>\n",
       "      <th>mileage</th>\n",
       "      <th>fuelType</th>\n",
       "      <th>tax</th>\n",
       "      <th>mpg</th>\n",
       "      <th>engineSize</th>\n",
       "    </tr>\n",
       "  </thead>\n",
       "  <tbody>\n",
       "    <tr>\n",
       "      <th>0</th>\n",
       "      <td>T-Roc</td>\n",
       "      <td>2019</td>\n",
       "      <td>25000</td>\n",
       "      <td>Automatic</td>\n",
       "      <td>13904</td>\n",
       "      <td>Diesel</td>\n",
       "      <td>145</td>\n",
       "      <td>49.6</td>\n",
       "      <td>2.0</td>\n",
       "    </tr>\n",
       "    <tr>\n",
       "      <th>1</th>\n",
       "      <td>T-Roc</td>\n",
       "      <td>2019</td>\n",
       "      <td>26883</td>\n",
       "      <td>Automatic</td>\n",
       "      <td>4562</td>\n",
       "      <td>Diesel</td>\n",
       "      <td>145</td>\n",
       "      <td>49.6</td>\n",
       "      <td>2.0</td>\n",
       "    </tr>\n",
       "    <tr>\n",
       "      <th>2</th>\n",
       "      <td>T-Roc</td>\n",
       "      <td>2019</td>\n",
       "      <td>20000</td>\n",
       "      <td>Manual</td>\n",
       "      <td>7414</td>\n",
       "      <td>Diesel</td>\n",
       "      <td>145</td>\n",
       "      <td>50.4</td>\n",
       "      <td>2.0</td>\n",
       "    </tr>\n",
       "    <tr>\n",
       "      <th>3</th>\n",
       "      <td>T-Roc</td>\n",
       "      <td>2019</td>\n",
       "      <td>33492</td>\n",
       "      <td>Automatic</td>\n",
       "      <td>4825</td>\n",
       "      <td>Petrol</td>\n",
       "      <td>145</td>\n",
       "      <td>32.5</td>\n",
       "      <td>2.0</td>\n",
       "    </tr>\n",
       "    <tr>\n",
       "      <th>4</th>\n",
       "      <td>T-Roc</td>\n",
       "      <td>2019</td>\n",
       "      <td>22900</td>\n",
       "      <td>Semi-Auto</td>\n",
       "      <td>6500</td>\n",
       "      <td>Petrol</td>\n",
       "      <td>150</td>\n",
       "      <td>39.8</td>\n",
       "      <td>1.5</td>\n",
       "    </tr>\n",
       "  </tbody>\n",
       "</table>\n",
       "</div>"
      ],
      "text/plain": [
       "    model  year  price transmission  mileage fuelType  tax   mpg  engineSize\n",
       "0   T-Roc  2019  25000    Automatic    13904   Diesel  145  49.6         2.0\n",
       "1   T-Roc  2019  26883    Automatic     4562   Diesel  145  49.6         2.0\n",
       "2   T-Roc  2019  20000       Manual     7414   Diesel  145  50.4         2.0\n",
       "3   T-Roc  2019  33492    Automatic     4825   Petrol  145  32.5         2.0\n",
       "4   T-Roc  2019  22900    Semi-Auto     6500   Petrol  150  39.8         1.5"
      ]
     },
     "execution_count": 16,
     "metadata": {},
     "output_type": "execute_result"
    }
   ],
   "source": [
    "vw_df.head()"
   ]
  },
  {
   "cell_type": "code",
   "execution_count": 17,
   "metadata": {},
   "outputs": [
    {
     "data": {
      "text/html": [
       "<div>\n",
       "<style scoped>\n",
       "    .dataframe tbody tr th:only-of-type {\n",
       "        vertical-align: middle;\n",
       "    }\n",
       "\n",
       "    .dataframe tbody tr th {\n",
       "        vertical-align: top;\n",
       "    }\n",
       "\n",
       "    .dataframe thead th {\n",
       "        text-align: right;\n",
       "    }\n",
       "</style>\n",
       "<table border=\"1\" class=\"dataframe\">\n",
       "  <thead>\n",
       "    <tr style=\"text-align: right;\">\n",
       "      <th></th>\n",
       "      <th>model</th>\n",
       "      <th>year</th>\n",
       "      <th>price</th>\n",
       "      <th>transmission</th>\n",
       "      <th>mileage</th>\n",
       "      <th>fuelType</th>\n",
       "      <th>tax(£)</th>\n",
       "      <th>mpg</th>\n",
       "      <th>engineSize</th>\n",
       "    </tr>\n",
       "  </thead>\n",
       "  <tbody>\n",
       "    <tr>\n",
       "      <th>0</th>\n",
       "      <td>I20</td>\n",
       "      <td>2017</td>\n",
       "      <td>7999</td>\n",
       "      <td>Manual</td>\n",
       "      <td>17307</td>\n",
       "      <td>Petrol</td>\n",
       "      <td>145</td>\n",
       "      <td>58.9</td>\n",
       "      <td>1.2</td>\n",
       "    </tr>\n",
       "    <tr>\n",
       "      <th>1</th>\n",
       "      <td>Tucson</td>\n",
       "      <td>2016</td>\n",
       "      <td>14499</td>\n",
       "      <td>Automatic</td>\n",
       "      <td>25233</td>\n",
       "      <td>Diesel</td>\n",
       "      <td>235</td>\n",
       "      <td>43.5</td>\n",
       "      <td>2.0</td>\n",
       "    </tr>\n",
       "    <tr>\n",
       "      <th>2</th>\n",
       "      <td>Tucson</td>\n",
       "      <td>2016</td>\n",
       "      <td>11399</td>\n",
       "      <td>Manual</td>\n",
       "      <td>37877</td>\n",
       "      <td>Diesel</td>\n",
       "      <td>30</td>\n",
       "      <td>61.7</td>\n",
       "      <td>1.7</td>\n",
       "    </tr>\n",
       "    <tr>\n",
       "      <th>3</th>\n",
       "      <td>I10</td>\n",
       "      <td>2016</td>\n",
       "      <td>6499</td>\n",
       "      <td>Manual</td>\n",
       "      <td>23789</td>\n",
       "      <td>Petrol</td>\n",
       "      <td>20</td>\n",
       "      <td>60.1</td>\n",
       "      <td>1.0</td>\n",
       "    </tr>\n",
       "    <tr>\n",
       "      <th>4</th>\n",
       "      <td>IX35</td>\n",
       "      <td>2015</td>\n",
       "      <td>10199</td>\n",
       "      <td>Manual</td>\n",
       "      <td>33177</td>\n",
       "      <td>Diesel</td>\n",
       "      <td>160</td>\n",
       "      <td>51.4</td>\n",
       "      <td>2.0</td>\n",
       "    </tr>\n",
       "  </tbody>\n",
       "</table>\n",
       "</div>"
      ],
      "text/plain": [
       "     model  year  price transmission  mileage fuelType  tax(£)   mpg  \\\n",
       "0      I20  2017   7999       Manual    17307   Petrol     145  58.9   \n",
       "1   Tucson  2016  14499    Automatic    25233   Diesel     235  43.5   \n",
       "2   Tucson  2016  11399       Manual    37877   Diesel      30  61.7   \n",
       "3      I10  2016   6499       Manual    23789   Petrol      20  60.1   \n",
       "4     IX35  2015  10199       Manual    33177   Diesel     160  51.4   \n",
       "\n",
       "   engineSize  \n",
       "0         1.2  \n",
       "1         2.0  \n",
       "2         1.7  \n",
       "3         1.0  \n",
       "4         2.0  "
      ]
     },
     "execution_count": 17,
     "metadata": {},
     "output_type": "execute_result"
    }
   ],
   "source": [
    "hyundi_df.head()"
   ]
  },
  {
   "cell_type": "code",
   "execution_count": 18,
   "metadata": {},
   "outputs": [
    {
     "data": {
      "text/html": [
       "<div>\n",
       "<style scoped>\n",
       "    .dataframe tbody tr th:only-of-type {\n",
       "        vertical-align: middle;\n",
       "    }\n",
       "\n",
       "    .dataframe tbody tr th {\n",
       "        vertical-align: top;\n",
       "    }\n",
       "\n",
       "    .dataframe thead th {\n",
       "        text-align: right;\n",
       "    }\n",
       "</style>\n",
       "<table border=\"1\" class=\"dataframe\">\n",
       "  <thead>\n",
       "    <tr style=\"text-align: right;\">\n",
       "      <th></th>\n",
       "      <th>model</th>\n",
       "      <th>year</th>\n",
       "      <th>price</th>\n",
       "      <th>transmission</th>\n",
       "      <th>mileage</th>\n",
       "      <th>fuelType</th>\n",
       "      <th>engineSize</th>\n",
       "    </tr>\n",
       "  </thead>\n",
       "  <tbody>\n",
       "    <tr>\n",
       "      <th>0</th>\n",
       "      <td>Focus</td>\n",
       "      <td>2016</td>\n",
       "      <td>8000</td>\n",
       "      <td>Manual</td>\n",
       "      <td>38852</td>\n",
       "      <td>Petrol</td>\n",
       "      <td>1.0</td>\n",
       "    </tr>\n",
       "    <tr>\n",
       "      <th>1</th>\n",
       "      <td>Focus</td>\n",
       "      <td>2019</td>\n",
       "      <td>13400</td>\n",
       "      <td>Manual</td>\n",
       "      <td>11952</td>\n",
       "      <td>Petrol</td>\n",
       "      <td>1.0</td>\n",
       "    </tr>\n",
       "    <tr>\n",
       "      <th>2</th>\n",
       "      <td>Focus</td>\n",
       "      <td>2019</td>\n",
       "      <td>14600</td>\n",
       "      <td>Manual</td>\n",
       "      <td>22142</td>\n",
       "      <td>Petrol</td>\n",
       "      <td>1.5</td>\n",
       "    </tr>\n",
       "    <tr>\n",
       "      <th>3</th>\n",
       "      <td>Focus</td>\n",
       "      <td>2016</td>\n",
       "      <td>9450</td>\n",
       "      <td>Manual</td>\n",
       "      <td>14549</td>\n",
       "      <td>Diesel</td>\n",
       "      <td>1.6</td>\n",
       "    </tr>\n",
       "    <tr>\n",
       "      <th>4</th>\n",
       "      <td>Focus</td>\n",
       "      <td>2015</td>\n",
       "      <td>9999</td>\n",
       "      <td>Manual</td>\n",
       "      <td>7010</td>\n",
       "      <td>Diesel</td>\n",
       "      <td>1.6</td>\n",
       "    </tr>\n",
       "  </tbody>\n",
       "</table>\n",
       "</div>"
      ],
      "text/plain": [
       "    model  year  price transmission  mileage fuelType  engineSize\n",
       "0   Focus  2016   8000       Manual    38852   Petrol         1.0\n",
       "1   Focus  2019  13400       Manual    11952   Petrol         1.0\n",
       "2   Focus  2019  14600       Manual    22142   Petrol         1.5\n",
       "3   Focus  2016   9450       Manual    14549   Diesel         1.6\n",
       "4   Focus  2015   9999       Manual     7010   Diesel         1.6"
      ]
     },
     "execution_count": 18,
     "metadata": {},
     "output_type": "execute_result"
    }
   ],
   "source": [
    "focus_df.head()"
   ]
  },
  {
   "cell_type": "code",
   "execution_count": 19,
   "metadata": {},
   "outputs": [
    {
     "data": {
      "text/html": [
       "<div>\n",
       "<style scoped>\n",
       "    .dataframe tbody tr th:only-of-type {\n",
       "        vertical-align: middle;\n",
       "    }\n",
       "\n",
       "    .dataframe tbody tr th {\n",
       "        vertical-align: top;\n",
       "    }\n",
       "\n",
       "    .dataframe thead th {\n",
       "        text-align: right;\n",
       "    }\n",
       "</style>\n",
       "<table border=\"1\" class=\"dataframe\">\n",
       "  <thead>\n",
       "    <tr style=\"text-align: right;\">\n",
       "      <th></th>\n",
       "      <th>model</th>\n",
       "      <th>year</th>\n",
       "      <th>price</th>\n",
       "      <th>transmission</th>\n",
       "      <th>mileage</th>\n",
       "      <th>fuelType</th>\n",
       "      <th>tax</th>\n",
       "      <th>mpg</th>\n",
       "      <th>engineSize</th>\n",
       "    </tr>\n",
       "  </thead>\n",
       "  <tbody>\n",
       "    <tr>\n",
       "      <th>0</th>\n",
       "      <td>Octavia</td>\n",
       "      <td>2017</td>\n",
       "      <td>10550</td>\n",
       "      <td>Manual</td>\n",
       "      <td>25250</td>\n",
       "      <td>Petrol</td>\n",
       "      <td>150</td>\n",
       "      <td>54.3</td>\n",
       "      <td>1.4</td>\n",
       "    </tr>\n",
       "    <tr>\n",
       "      <th>1</th>\n",
       "      <td>Citigo</td>\n",
       "      <td>2018</td>\n",
       "      <td>8200</td>\n",
       "      <td>Manual</td>\n",
       "      <td>1264</td>\n",
       "      <td>Petrol</td>\n",
       "      <td>145</td>\n",
       "      <td>67.3</td>\n",
       "      <td>1.0</td>\n",
       "    </tr>\n",
       "    <tr>\n",
       "      <th>2</th>\n",
       "      <td>Octavia</td>\n",
       "      <td>2019</td>\n",
       "      <td>15650</td>\n",
       "      <td>Automatic</td>\n",
       "      <td>6825</td>\n",
       "      <td>Diesel</td>\n",
       "      <td>145</td>\n",
       "      <td>67.3</td>\n",
       "      <td>2.0</td>\n",
       "    </tr>\n",
       "    <tr>\n",
       "      <th>3</th>\n",
       "      <td>Yeti Outdoor</td>\n",
       "      <td>2015</td>\n",
       "      <td>14000</td>\n",
       "      <td>Automatic</td>\n",
       "      <td>28431</td>\n",
       "      <td>Diesel</td>\n",
       "      <td>165</td>\n",
       "      <td>51.4</td>\n",
       "      <td>2.0</td>\n",
       "    </tr>\n",
       "    <tr>\n",
       "      <th>4</th>\n",
       "      <td>Superb</td>\n",
       "      <td>2019</td>\n",
       "      <td>18350</td>\n",
       "      <td>Manual</td>\n",
       "      <td>10912</td>\n",
       "      <td>Petrol</td>\n",
       "      <td>150</td>\n",
       "      <td>40.9</td>\n",
       "      <td>1.5</td>\n",
       "    </tr>\n",
       "  </tbody>\n",
       "</table>\n",
       "</div>"
      ],
      "text/plain": [
       "           model  year  price transmission  mileage fuelType  tax   mpg  \\\n",
       "0        Octavia  2017  10550       Manual    25250   Petrol  150  54.3   \n",
       "1         Citigo  2018   8200       Manual     1264   Petrol  145  67.3   \n",
       "2        Octavia  2019  15650    Automatic     6825   Diesel  145  67.3   \n",
       "3   Yeti Outdoor  2015  14000    Automatic    28431   Diesel  165  51.4   \n",
       "4         Superb  2019  18350       Manual    10912   Petrol  150  40.9   \n",
       "\n",
       "   engineSize  \n",
       "0         1.4  \n",
       "1         1.0  \n",
       "2         2.0  \n",
       "3         2.0  \n",
       "4         1.5  "
      ]
     },
     "execution_count": 19,
     "metadata": {},
     "output_type": "execute_result"
    }
   ],
   "source": [
    "skoda_df.head()"
   ]
  },
  {
   "cell_type": "code",
   "execution_count": 20,
   "metadata": {},
   "outputs": [
    {
     "data": {
      "text/html": [
       "<div>\n",
       "<style scoped>\n",
       "    .dataframe tbody tr th:only-of-type {\n",
       "        vertical-align: middle;\n",
       "    }\n",
       "\n",
       "    .dataframe tbody tr th {\n",
       "        vertical-align: top;\n",
       "    }\n",
       "\n",
       "    .dataframe thead th {\n",
       "        text-align: right;\n",
       "    }\n",
       "</style>\n",
       "<table border=\"1\" class=\"dataframe\">\n",
       "  <thead>\n",
       "    <tr style=\"text-align: right;\">\n",
       "      <th></th>\n",
       "      <th>model</th>\n",
       "      <th>year</th>\n",
       "      <th>price</th>\n",
       "      <th>transmission</th>\n",
       "      <th>mileage</th>\n",
       "      <th>fuelType</th>\n",
       "      <th>tax</th>\n",
       "      <th>mpg</th>\n",
       "      <th>engineSize</th>\n",
       "    </tr>\n",
       "  </thead>\n",
       "  <tbody>\n",
       "    <tr>\n",
       "      <th>0</th>\n",
       "      <td>Corsa</td>\n",
       "      <td>2018</td>\n",
       "      <td>7885</td>\n",
       "      <td>Manual</td>\n",
       "      <td>9876</td>\n",
       "      <td>Petrol</td>\n",
       "      <td>145</td>\n",
       "      <td>55.4</td>\n",
       "      <td>1.4</td>\n",
       "    </tr>\n",
       "    <tr>\n",
       "      <th>1</th>\n",
       "      <td>Corsa</td>\n",
       "      <td>2019</td>\n",
       "      <td>11995</td>\n",
       "      <td>Manual</td>\n",
       "      <td>2500</td>\n",
       "      <td>Petrol</td>\n",
       "      <td>145</td>\n",
       "      <td>54.3</td>\n",
       "      <td>1.4</td>\n",
       "    </tr>\n",
       "    <tr>\n",
       "      <th>2</th>\n",
       "      <td>Corsa</td>\n",
       "      <td>2017</td>\n",
       "      <td>9777</td>\n",
       "      <td>Automatic</td>\n",
       "      <td>9625</td>\n",
       "      <td>Petrol</td>\n",
       "      <td>145</td>\n",
       "      <td>47.9</td>\n",
       "      <td>1.4</td>\n",
       "    </tr>\n",
       "    <tr>\n",
       "      <th>3</th>\n",
       "      <td>Corsa</td>\n",
       "      <td>2016</td>\n",
       "      <td>8500</td>\n",
       "      <td>Manual</td>\n",
       "      <td>25796</td>\n",
       "      <td>Petrol</td>\n",
       "      <td>30</td>\n",
       "      <td>55.4</td>\n",
       "      <td>1.4</td>\n",
       "    </tr>\n",
       "    <tr>\n",
       "      <th>4</th>\n",
       "      <td>Corsa</td>\n",
       "      <td>2019</td>\n",
       "      <td>10000</td>\n",
       "      <td>Manual</td>\n",
       "      <td>3887</td>\n",
       "      <td>Petrol</td>\n",
       "      <td>145</td>\n",
       "      <td>43.5</td>\n",
       "      <td>1.4</td>\n",
       "    </tr>\n",
       "  </tbody>\n",
       "</table>\n",
       "</div>"
      ],
      "text/plain": [
       "    model  year  price transmission  mileage fuelType  tax   mpg  engineSize\n",
       "0   Corsa  2018   7885       Manual     9876   Petrol  145  55.4         1.4\n",
       "1   Corsa  2019  11995       Manual     2500   Petrol  145  54.3         1.4\n",
       "2   Corsa  2017   9777    Automatic     9625   Petrol  145  47.9         1.4\n",
       "3   Corsa  2016   8500       Manual    25796   Petrol   30  55.4         1.4\n",
       "4   Corsa  2019  10000       Manual     3887   Petrol  145  43.5         1.4"
      ]
     },
     "execution_count": 20,
     "metadata": {},
     "output_type": "execute_result"
    }
   ],
   "source": [
    "vauxhall_df.head()"
   ]
  },
  {
   "cell_type": "code",
   "execution_count": 21,
   "metadata": {},
   "outputs": [],
   "source": [
    "#car_data.to_csv('Complete_data.csv')"
   ]
  },
  {
   "cell_type": "markdown",
   "metadata": {},
   "source": [
    "**Observations**\n",
    "\n",
    "- All collected car models are made of 9 features except 'Cclass' and 'Focus' models with 7 features (without Tax and mpg) and hence may likely to be dropped so as to ensure data column consistency.\n",
    "- hyundi_df car model specified its Tax columns in Euros, this will be corrected for consistency purposes."
   ]
  },
  {
   "cell_type": "code",
   "execution_count": 22,
   "metadata": {},
   "outputs": [
    {
     "data": {
      "text/html": [
       "<div>\n",
       "<style scoped>\n",
       "    .dataframe tbody tr th:only-of-type {\n",
       "        vertical-align: middle;\n",
       "    }\n",
       "\n",
       "    .dataframe tbody tr th {\n",
       "        vertical-align: top;\n",
       "    }\n",
       "\n",
       "    .dataframe thead th {\n",
       "        text-align: right;\n",
       "    }\n",
       "</style>\n",
       "<table border=\"1\" class=\"dataframe\">\n",
       "  <thead>\n",
       "    <tr style=\"text-align: right;\">\n",
       "      <th></th>\n",
       "      <th>model</th>\n",
       "      <th>year</th>\n",
       "      <th>price</th>\n",
       "      <th>transmission</th>\n",
       "      <th>mileage</th>\n",
       "      <th>fuelType</th>\n",
       "      <th>tax</th>\n",
       "      <th>mpg</th>\n",
       "      <th>engineSize</th>\n",
       "    </tr>\n",
       "  </thead>\n",
       "  <tbody>\n",
       "    <tr>\n",
       "      <th>0</th>\n",
       "      <td>I20</td>\n",
       "      <td>2017</td>\n",
       "      <td>7999</td>\n",
       "      <td>Manual</td>\n",
       "      <td>17307</td>\n",
       "      <td>Petrol</td>\n",
       "      <td>145</td>\n",
       "      <td>58.9</td>\n",
       "      <td>1.2</td>\n",
       "    </tr>\n",
       "    <tr>\n",
       "      <th>1</th>\n",
       "      <td>Tucson</td>\n",
       "      <td>2016</td>\n",
       "      <td>14499</td>\n",
       "      <td>Automatic</td>\n",
       "      <td>25233</td>\n",
       "      <td>Diesel</td>\n",
       "      <td>235</td>\n",
       "      <td>43.5</td>\n",
       "      <td>2.0</td>\n",
       "    </tr>\n",
       "    <tr>\n",
       "      <th>2</th>\n",
       "      <td>Tucson</td>\n",
       "      <td>2016</td>\n",
       "      <td>11399</td>\n",
       "      <td>Manual</td>\n",
       "      <td>37877</td>\n",
       "      <td>Diesel</td>\n",
       "      <td>30</td>\n",
       "      <td>61.7</td>\n",
       "      <td>1.7</td>\n",
       "    </tr>\n",
       "    <tr>\n",
       "      <th>3</th>\n",
       "      <td>I10</td>\n",
       "      <td>2016</td>\n",
       "      <td>6499</td>\n",
       "      <td>Manual</td>\n",
       "      <td>23789</td>\n",
       "      <td>Petrol</td>\n",
       "      <td>20</td>\n",
       "      <td>60.1</td>\n",
       "      <td>1.0</td>\n",
       "    </tr>\n",
       "    <tr>\n",
       "      <th>4</th>\n",
       "      <td>IX35</td>\n",
       "      <td>2015</td>\n",
       "      <td>10199</td>\n",
       "      <td>Manual</td>\n",
       "      <td>33177</td>\n",
       "      <td>Diesel</td>\n",
       "      <td>160</td>\n",
       "      <td>51.4</td>\n",
       "      <td>2.0</td>\n",
       "    </tr>\n",
       "  </tbody>\n",
       "</table>\n",
       "</div>"
      ],
      "text/plain": [
       "     model  year  price transmission  mileage fuelType  tax   mpg  engineSize\n",
       "0      I20  2017   7999       Manual    17307   Petrol  145  58.9         1.2\n",
       "1   Tucson  2016  14499    Automatic    25233   Diesel  235  43.5         2.0\n",
       "2   Tucson  2016  11399       Manual    37877   Diesel   30  61.7         1.7\n",
       "3      I10  2016   6499       Manual    23789   Petrol   20  60.1         1.0\n",
       "4     IX35  2015  10199       Manual    33177   Diesel  160  51.4         2.0"
      ]
     },
     "execution_count": 22,
     "metadata": {},
     "output_type": "execute_result"
    }
   ],
   "source": [
    "# change column name\n",
    "hyundi_df = hyundi_df.rename(columns= {'tax(£)': 'tax'})\n",
    "\n",
    "hyundi_df.head()"
   ]
  },
  {
   "cell_type": "code",
   "execution_count": 23,
   "metadata": {},
   "outputs": [],
   "source": [
    "# creating brand column for each data\n",
    "audi_df['brand'] = 'audi'\n",
    "    \n",
    "ford_df['brand'] = 'ford'\n",
    "\n",
    "merc_df['brand'] = 'merc'\n",
    "\n",
    "bmw_df['brand'] = 'bmw'\n",
    "\n",
    "toyota_df['brand'] = 'toyota'\n",
    "\n",
    "vw_df['brand'] = 'vw'\n",
    "\n",
    "hyundi_df['brand'] = 'hyundi'\n",
    "\n",
    "skoda_df['brand'] = 'skoda'\n",
    "\n",
    "vauxhall_df['brand'] = 'vauxhall'"
   ]
  },
  {
   "cell_type": "markdown",
   "metadata": {},
   "source": [
    "**Merging Data Together**\n",
    "\n",
    "We are to merge the different datasets togetherso that we can efficiently perform analysis on them and building a good generic model for them."
   ]
  },
  {
   "cell_type": "code",
   "execution_count": 24,
   "metadata": {},
   "outputs": [],
   "source": [
    "frames = [audi_df, ford_df, merc_df, bmw_df,\n",
    "          toyota_df, vw_df, hyundi_df, skoda_df, vauxhall_df] # create frame containing all the separate files\n",
    "\n",
    "car_data = pd.concat(frames)  # we concatenate all the files into a car_data"
   ]
  },
  {
   "cell_type": "code",
   "execution_count": 25,
   "metadata": {
    "scrolled": true
   },
   "outputs": [
    {
     "data": {
      "text/html": [
       "<div>\n",
       "<style scoped>\n",
       "    .dataframe tbody tr th:only-of-type {\n",
       "        vertical-align: middle;\n",
       "    }\n",
       "\n",
       "    .dataframe tbody tr th {\n",
       "        vertical-align: top;\n",
       "    }\n",
       "\n",
       "    .dataframe thead th {\n",
       "        text-align: right;\n",
       "    }\n",
       "</style>\n",
       "<table border=\"1\" class=\"dataframe\">\n",
       "  <thead>\n",
       "    <tr style=\"text-align: right;\">\n",
       "      <th></th>\n",
       "      <th>model</th>\n",
       "      <th>year</th>\n",
       "      <th>price</th>\n",
       "      <th>transmission</th>\n",
       "      <th>mileage</th>\n",
       "      <th>fuelType</th>\n",
       "      <th>tax</th>\n",
       "      <th>mpg</th>\n",
       "      <th>engineSize</th>\n",
       "      <th>brand</th>\n",
       "    </tr>\n",
       "  </thead>\n",
       "  <tbody>\n",
       "    <tr>\n",
       "      <th>0</th>\n",
       "      <td>A1</td>\n",
       "      <td>2017</td>\n",
       "      <td>12500</td>\n",
       "      <td>Manual</td>\n",
       "      <td>15735</td>\n",
       "      <td>Petrol</td>\n",
       "      <td>150</td>\n",
       "      <td>55.4</td>\n",
       "      <td>1.4</td>\n",
       "      <td>audi</td>\n",
       "    </tr>\n",
       "    <tr>\n",
       "      <th>1</th>\n",
       "      <td>A6</td>\n",
       "      <td>2016</td>\n",
       "      <td>16500</td>\n",
       "      <td>Automatic</td>\n",
       "      <td>36203</td>\n",
       "      <td>Diesel</td>\n",
       "      <td>20</td>\n",
       "      <td>64.2</td>\n",
       "      <td>2.0</td>\n",
       "      <td>audi</td>\n",
       "    </tr>\n",
       "    <tr>\n",
       "      <th>2</th>\n",
       "      <td>A1</td>\n",
       "      <td>2016</td>\n",
       "      <td>11000</td>\n",
       "      <td>Manual</td>\n",
       "      <td>29946</td>\n",
       "      <td>Petrol</td>\n",
       "      <td>30</td>\n",
       "      <td>55.4</td>\n",
       "      <td>1.4</td>\n",
       "      <td>audi</td>\n",
       "    </tr>\n",
       "    <tr>\n",
       "      <th>3</th>\n",
       "      <td>A4</td>\n",
       "      <td>2017</td>\n",
       "      <td>16800</td>\n",
       "      <td>Automatic</td>\n",
       "      <td>25952</td>\n",
       "      <td>Diesel</td>\n",
       "      <td>145</td>\n",
       "      <td>67.3</td>\n",
       "      <td>2.0</td>\n",
       "      <td>audi</td>\n",
       "    </tr>\n",
       "    <tr>\n",
       "      <th>4</th>\n",
       "      <td>A3</td>\n",
       "      <td>2019</td>\n",
       "      <td>17300</td>\n",
       "      <td>Manual</td>\n",
       "      <td>1998</td>\n",
       "      <td>Petrol</td>\n",
       "      <td>145</td>\n",
       "      <td>49.6</td>\n",
       "      <td>1.0</td>\n",
       "      <td>audi</td>\n",
       "    </tr>\n",
       "  </tbody>\n",
       "</table>\n",
       "</div>"
      ],
      "text/plain": [
       "  model  year  price transmission  mileage fuelType  tax   mpg  engineSize  \\\n",
       "0    A1  2017  12500       Manual    15735   Petrol  150  55.4         1.4   \n",
       "1    A6  2016  16500    Automatic    36203   Diesel   20  64.2         2.0   \n",
       "2    A1  2016  11000       Manual    29946   Petrol   30  55.4         1.4   \n",
       "3    A4  2017  16800    Automatic    25952   Diesel  145  67.3         2.0   \n",
       "4    A3  2019  17300       Manual     1998   Petrol  145  49.6         1.0   \n",
       "\n",
       "  brand  \n",
       "0  audi  \n",
       "1  audi  \n",
       "2  audi  \n",
       "3  audi  \n",
       "4  audi  "
      ]
     },
     "execution_count": 25,
     "metadata": {},
     "output_type": "execute_result"
    }
   ],
   "source": [
    "car_data.head()  # lets view the first five rows of the data"
   ]
  },
  {
   "cell_type": "code",
   "execution_count": 26,
   "metadata": {},
   "outputs": [
    {
     "data": {
      "text/plain": [
       "Petrol      54928\n",
       "Diesel      40928\n",
       "Hybrid       3078\n",
       "Other         247\n",
       "Electric        6\n",
       "Name: fuelType, dtype: int64"
      ]
     },
     "execution_count": 26,
     "metadata": {},
     "output_type": "execute_result"
    }
   ],
   "source": [
    "car_data['fuelType'].value_counts() # lets check for uniques and count the number for each category"
   ]
  },
  {
   "cell_type": "code",
   "execution_count": 27,
   "metadata": {},
   "outputs": [],
   "source": [
    "car_data.drop(car_data.index[car_data['year']==2060], inplace=True) # we remove the year 2060"
   ]
  },
  {
   "cell_type": "code",
   "execution_count": 28,
   "metadata": {},
   "outputs": [
    {
     "data": {
      "text/plain": [
       "2019    26771\n",
       "2017    21733\n",
       "2016    15850\n",
       "2018    13664\n",
       "2015     7645\n",
       "2020     4465\n",
       "2014     4085\n",
       "2013     2603\n",
       "2012      634\n",
       "2011      432\n",
       "2010      340\n",
       "2009      278\n",
       "2008      200\n",
       "2007      163\n",
       "2006       86\n",
       "2005       69\n",
       "2004       52\n",
       "2003       34\n",
       "2002       31\n",
       "2001       20\n",
       "2000        9\n",
       "1998        8\n",
       "1999        6\n",
       "1997        4\n",
       "1970        2\n",
       "1996        2\n",
       "Name: year, dtype: int64"
      ]
     },
     "execution_count": 28,
     "metadata": {},
     "output_type": "execute_result"
    }
   ],
   "source": [
    "car_data['year'].value_counts()"
   ]
  },
  {
   "cell_type": "markdown",
   "metadata": {},
   "source": [
    "### Step 2: Explore Data (asking useful questions)\n",
    "\n",
    "In other as to examine our data and turn it into useful piece of information, the following statistical research questions and methods will be employed.\n",
    "\n",
    "**Statistical Research Questions**\n",
    "- 1. In which year was the highest and lowest car prices recorded ?\n",
    "- 2. Which car brands have the highest prices and taxes ?\n",
    "- 3. Are car mileage, mpg, engineSize, tax good indicators of car prices ?\n",
    "- 4. Which features strongly affects the outcome of car prices ?\n",
    "- 5. Does the prices of some car's models significantly different from other models ?\n",
    "- 6. Can we predict car prices based on the available features ?\n",
    "\n",
    "**Statistical Methods to be used**\n",
    "- 1. Exploratory data analysis (descriptive statistics)\n",
    "- 2. Correlation Analysis [Pearson's Corr (linear) and Spearman's Corr (non-linear)]\n",
    "- 3. Hypothesis testing \n",
    "- 4. Predictive Analytics"
   ]
  },
  {
   "cell_type": "markdown",
   "metadata": {},
   "source": [
    "**1. In which year was the highest and lowest car prices recorded ?**"
   ]
  },
  {
   "cell_type": "code",
   "execution_count": 29,
   "metadata": {},
   "outputs": [
    {
     "data": {
      "image/png": "[encoded data removed]",
      "text/plain": [
       "<Figure size 2160x1080 with 1 Axes>"
      ]
     },
     "metadata": {},
     "output_type": "display_data"
    }
   ],
   "source": [
    "plt.style.use('ggplot')\n",
    "plt.figure(figsize=(30, 15))\n",
    "sns.barplot(data=car_data, x='year', y='price', hue='brand')\n",
    "ax = plt.gca()\n",
    "ax.tick_params(axis='x', labelrotation=45, labelsize=10)"
   ]
  },
  {
   "cell_type": "markdown",
   "metadata": {},
   "source": [
    "**2. Which car brands have the highest prices and taxes ?**"
   ]
  },
  {
   "cell_type": "code",
   "execution_count": 30,
   "metadata": {},
   "outputs": [
    {
     "data": {
      "image/png": "[encoded data removed]",
      "text/plain": [
       "<Figure size 720x432 with 1 Axes>"
      ]
     },
     "metadata": {},
     "output_type": "display_data"
    }
   ],
   "source": [
    "plt.style.use('ggplot')\n",
    "plt.figure(figsize=(10, 6))\n",
    "sns.violinplot(data=car_data, x='brand', y='price')\n",
    "ax = plt.gca()\n",
    "ax.tick_params(axis='x', labelrotation=45, labelsize=10)"
   ]
  },
  {
   "cell_type": "markdown",
   "metadata": {},
   "source": [
    "**3. Are car mileage, mpg, engineSize, tax good indicators of car prices ?**"
   ]
  },
  {
   "cell_type": "code",
   "execution_count": 31,
   "metadata": {},
   "outputs": [
    {
     "data": {
      "image/png": "[encoded data removed]",
      "text/plain": [
       "<Figure size 432x288 with 1 Axes>"
      ]
     },
     "metadata": {},
     "output_type": "display_data"
    },
    {
     "data": {
      "image/png": "[encoded data removed]",
      "text/plain": [
       "<Figure size 432x288 with 1 Axes>"
      ]
     },
     "metadata": {},
     "output_type": "display_data"
    },
    {
     "data": {
      "image/png": "[encoded data removed]",
      "text/plain": [
       "<Figure size 432x288 with 1 Axes>"
      ]
     },
     "metadata": {},
     "output_type": "display_data"
    }
   ],
   "source": [
    "def plot_violin(car_data, cols, col_y = 'price'):\n",
    "    for col in cols:\n",
    "        plt.style.use('ggplot')\n",
    "        sns.violinplot(col, col_y, data=car_data)\n",
    "        plt.xlabel(col) # Set text for the x axis\n",
    "        plt.ylabel(col_y)# Set text for y axis\n",
    "        plt.show()\n",
    "\n",
    "cat_cols = ['fuelType', 'brand', 'transmission']\n",
    "plot_violin(car_data, cat_cols)    "
   ]
  },
  {
   "cell_type": "code",
   "execution_count": 32,
   "metadata": {},
   "outputs": [
    {
     "data": {
      "image/png": "[encoded data removed]",
      "text/plain": [
       "<Figure size 432x288 with 1 Axes>"
      ]
     },
     "metadata": {},
     "output_type": "display_data"
    },
    {
     "data": {
      "image/png": "[encoded data removed]",
      "text/plain": [
       "<Figure size 432x288 with 1 Axes>"
      ]
     },
     "metadata": {},
     "output_type": "display_data"
    },
    {
     "data": {
      "image/png": "[encoded data removed]",
      "text/plain": [
       "<Figure size 432x288 with 1 Axes>"
      ]
     },
     "metadata": {},
     "output_type": "display_data"
    }
   ],
   "source": [
    "def plot_violin(car_data, cols, col_y = 'tax'):\n",
    "    for col in cols:\n",
    "        plt.style.use('ggplot')\n",
    "        sns.barplot(col, col_y, data=car_data)\n",
    "        plt.xlabel(col) # Set text for the x axis\n",
    "        plt.ylabel(col_y)# Set text for y axis\n",
    "        plt.show()\n",
    "\n",
    "cat_cols = ['fuelType', 'brand', 'transmission']\n",
    "plot_violin(car_data, cat_cols)    "
   ]
  },
  {
   "cell_type": "markdown",
   "metadata": {},
   "source": [
    "**Note:** In order as to answer all our statistical questions, we have to move to the next outline"
   ]
  },
  {
   "cell_type": "markdown",
   "metadata": {},
   "source": [
    "### Step 3: Perform correlation analysis on car prices vs car features\n",
    "\n",
    "Here we try to carry out correlation analysis to find out which features will actually affect the determination of car prices. From our above plottings, we were able to see that categoricalfeatures (transmission, fuelType and brand) hard some slight impact on the model. This relation possibly dims them fit for predicting car prices. Now, for our numerical features (mpg, engineSize, price etc) we will be making use of the ***Pearson's*** since we will be building a regression model for price prediction."
   ]
  },
  {
   "cell_type": "code",
   "execution_count": 33,
   "metadata": {},
   "outputs": [
    {
     "data": {
      "text/html": [
       "<div>\n",
       "<style scoped>\n",
       "    .dataframe tbody tr th:only-of-type {\n",
       "        vertical-align: middle;\n",
       "    }\n",
       "\n",
       "    .dataframe tbody tr th {\n",
       "        vertical-align: top;\n",
       "    }\n",
       "\n",
       "    .dataframe thead th {\n",
       "        text-align: right;\n",
       "    }\n",
       "</style>\n",
       "<table border=\"1\" class=\"dataframe\">\n",
       "  <thead>\n",
       "    <tr style=\"text-align: right;\">\n",
       "      <th></th>\n",
       "      <th>year</th>\n",
       "      <th>price</th>\n",
       "      <th>mileage</th>\n",
       "      <th>tax</th>\n",
       "      <th>mpg</th>\n",
       "      <th>engineSize</th>\n",
       "    </tr>\n",
       "  </thead>\n",
       "  <tbody>\n",
       "    <tr>\n",
       "      <th>year</th>\n",
       "      <td>1.000000</td>\n",
       "      <td>0.492059</td>\n",
       "      <td>-0.740443</td>\n",
       "      <td>0.195825</td>\n",
       "      <td>-0.132909</td>\n",
       "      <td>-0.038560</td>\n",
       "    </tr>\n",
       "    <tr>\n",
       "      <th>price</th>\n",
       "      <td>0.492059</td>\n",
       "      <td>1.000000</td>\n",
       "      <td>-0.417946</td>\n",
       "      <td>0.307667</td>\n",
       "      <td>-0.296440</td>\n",
       "      <td>0.638113</td>\n",
       "    </tr>\n",
       "    <tr>\n",
       "      <th>mileage</th>\n",
       "      <td>-0.740443</td>\n",
       "      <td>-0.417946</td>\n",
       "      <td>1.000000</td>\n",
       "      <td>-0.220786</td>\n",
       "      <td>0.185671</td>\n",
       "      <td>0.109081</td>\n",
       "    </tr>\n",
       "    <tr>\n",
       "      <th>tax</th>\n",
       "      <td>0.195825</td>\n",
       "      <td>0.307667</td>\n",
       "      <td>-0.220786</td>\n",
       "      <td>1.000000</td>\n",
       "      <td>-0.451446</td>\n",
       "      <td>0.278420</td>\n",
       "    </tr>\n",
       "    <tr>\n",
       "      <th>mpg</th>\n",
       "      <td>-0.132909</td>\n",
       "      <td>-0.296440</td>\n",
       "      <td>0.185671</td>\n",
       "      <td>-0.451446</td>\n",
       "      <td>1.000000</td>\n",
       "      <td>-0.248214</td>\n",
       "    </tr>\n",
       "  </tbody>\n",
       "</table>\n",
       "</div>"
      ],
      "text/plain": [
       "             year     price   mileage       tax       mpg  engineSize\n",
       "year     1.000000  0.492059 -0.740443  0.195825 -0.132909   -0.038560\n",
       "price    0.492059  1.000000 -0.417946  0.307667 -0.296440    0.638113\n",
       "mileage -0.740443 -0.417946  1.000000 -0.220786  0.185671    0.109081\n",
       "tax      0.195825  0.307667 -0.220786  1.000000 -0.451446    0.278420\n",
       "mpg     -0.132909 -0.296440  0.185671 -0.451446  1.000000   -0.248214"
      ]
     },
     "execution_count": 33,
     "metadata": {},
     "output_type": "execute_result"
    }
   ],
   "source": [
    "corr_mx = car_data.corr()\n",
    "corr_mx.head()"
   ]
  },
  {
   "cell_type": "code",
   "execution_count": 34,
   "metadata": {},
   "outputs": [
    {
     "data": {
      "image/png": "[encoded data removed]",
      "text/plain": [
       "<Figure size 1080x720 with 2 Axes>"
      ]
     },
     "metadata": {},
     "output_type": "display_data"
    }
   ],
   "source": [
    "# make a correlation plot (heatmap)\n",
    "corr_mx = car_data.corr()\n",
    "f, ax = plt.subplots(figsize=(15,10))\n",
    "plt.style.use('ggplot')\n",
    "ax = sns.heatmap(corr_mx, annot=True, annot_kws={'size':15}, cmap='GnBu')"
   ]
  },
  {
   "cell_type": "markdown",
   "metadata": {},
   "source": [
    "**Observation**\n",
    "\n",
    "- There is a high positive correlation between car prices and engineSize (with rscore of 0.64). \n",
    "- Mileage and mpg exhibited a very weak negative correlation with car prices\n",
    "- Year and tax equally exhibited weak correlations but in the positive."
   ]
  },
  {
   "cell_type": "markdown",
   "metadata": {},
   "source": [
    "### Step 4: Test that prices vary for different car models (Hypothesis testing)"
   ]
  },
  {
   "cell_type": "code",
   "execution_count": 35,
   "metadata": {
    "scrolled": true
   },
   "outputs": [
    {
     "data": {
      "text/html": [
       "<div>\n",
       "<style scoped>\n",
       "    .dataframe tbody tr th:only-of-type {\n",
       "        vertical-align: middle;\n",
       "    }\n",
       "\n",
       "    .dataframe tbody tr th {\n",
       "        vertical-align: top;\n",
       "    }\n",
       "\n",
       "    .dataframe thead th {\n",
       "        text-align: right;\n",
       "    }\n",
       "</style>\n",
       "<table border=\"1\" class=\"dataframe\">\n",
       "  <thead>\n",
       "    <tr style=\"text-align: right;\">\n",
       "      <th></th>\n",
       "      <th>audi_price</th>\n",
       "      <th>cclass_price</th>\n",
       "      <th>ford_price</th>\n",
       "      <th>merc_price</th>\n",
       "      <th>bmw_price</th>\n",
       "      <th>toyota_price</th>\n",
       "      <th>vw_price</th>\n",
       "      <th>hyundi_price</th>\n",
       "      <th>focus_price</th>\n",
       "      <th>skoda_price</th>\n",
       "      <th>vauxhall_price</th>\n",
       "    </tr>\n",
       "  </thead>\n",
       "  <tbody>\n",
       "    <tr>\n",
       "      <th>10663</th>\n",
       "      <td>16999</td>\n",
       "      <td>NaN</td>\n",
       "      <td>12000</td>\n",
       "      <td>18200</td>\n",
       "      <td>19995</td>\n",
       "      <td>NaN</td>\n",
       "      <td>27430</td>\n",
       "      <td>NaN</td>\n",
       "      <td>NaN</td>\n",
       "      <td>NaN</td>\n",
       "      <td>10600</td>\n",
       "    </tr>\n",
       "    <tr>\n",
       "      <th>10664</th>\n",
       "      <td>16999</td>\n",
       "      <td>NaN</td>\n",
       "      <td>17500</td>\n",
       "      <td>18100</td>\n",
       "      <td>11495</td>\n",
       "      <td>NaN</td>\n",
       "      <td>25750</td>\n",
       "      <td>NaN</td>\n",
       "      <td>NaN</td>\n",
       "      <td>NaN</td>\n",
       "      <td>10798</td>\n",
       "    </tr>\n",
       "    <tr>\n",
       "      <th>10665</th>\n",
       "      <td>17199</td>\n",
       "      <td>NaN</td>\n",
       "      <td>9300</td>\n",
       "      <td>16500</td>\n",
       "      <td>12000</td>\n",
       "      <td>NaN</td>\n",
       "      <td>32990</td>\n",
       "      <td>NaN</td>\n",
       "      <td>NaN</td>\n",
       "      <td>NaN</td>\n",
       "      <td>7990</td>\n",
       "    </tr>\n",
       "    <tr>\n",
       "      <th>10666</th>\n",
       "      <td>19499</td>\n",
       "      <td>NaN</td>\n",
       "      <td>12000</td>\n",
       "      <td>17000</td>\n",
       "      <td>14500</td>\n",
       "      <td>NaN</td>\n",
       "      <td>11711</td>\n",
       "      <td>NaN</td>\n",
       "      <td>NaN</td>\n",
       "      <td>NaN</td>\n",
       "      <td>10990</td>\n",
       "    </tr>\n",
       "    <tr>\n",
       "      <th>10667</th>\n",
       "      <td>15999</td>\n",
       "      <td>NaN</td>\n",
       "      <td>10500</td>\n",
       "      <td>15850</td>\n",
       "      <td>11400</td>\n",
       "      <td>NaN</td>\n",
       "      <td>25981</td>\n",
       "      <td>NaN</td>\n",
       "      <td>NaN</td>\n",
       "      <td>NaN</td>\n",
       "      <td>11590</td>\n",
       "    </tr>\n",
       "  </tbody>\n",
       "</table>\n",
       "</div>"
      ],
      "text/plain": [
       "       audi_price  cclass_price  ford_price  merc_price  bmw_price  \\\n",
       "10663       16999           NaN       12000       18200      19995   \n",
       "10664       16999           NaN       17500       18100      11495   \n",
       "10665       17199           NaN        9300       16500      12000   \n",
       "10666       19499           NaN       12000       17000      14500   \n",
       "10667       15999           NaN       10500       15850      11400   \n",
       "\n",
       "       toyota_price  vw_price  hyundi_price  focus_price  skoda_price  \\\n",
       "10663           NaN     27430           NaN          NaN          NaN   \n",
       "10664           NaN     25750           NaN          NaN          NaN   \n",
       "10665           NaN     32990           NaN          NaN          NaN   \n",
       "10666           NaN     11711           NaN          NaN          NaN   \n",
       "10667           NaN     25981           NaN          NaN          NaN   \n",
       "\n",
       "       vauxhall_price  \n",
       "10663           10600  \n",
       "10664           10798  \n",
       "10665            7990  \n",
       "10666           10990  \n",
       "10667           11590  "
      ]
     },
     "execution_count": 35,
     "metadata": {},
     "output_type": "execute_result"
    }
   ],
   "source": [
    "Hp_data = pd.DataFrame()  # we create data for the car brands\n",
    "Hp_data['audi_price'] = audi_df['price']\n",
    "Hp_data['cclass_price'] = cclass_df['price']\n",
    "Hp_data['ford_price'] = ford_df['price']\n",
    "Hp_data['merc_price'] = merc_df['price']\n",
    "Hp_data['bmw_price'] = bmw_df['price']\n",
    "Hp_data['toyota_price'] = toyota_df['price']\n",
    "Hp_data['vw_price'] = vw_df['price']\n",
    "Hp_data['hyundi_price'] = hyundi_df['price']\n",
    "Hp_data['focus_price'] = focus_df['price']\n",
    "Hp_data['skoda_price'] = skoda_df['price']\n",
    "Hp_data['vauxhall_price'] = vauxhall_df['price']\n",
    "\n",
    "Hp_data.tail()"
   ]
  },
  {
   "cell_type": "code",
   "execution_count": 36,
   "metadata": {},
   "outputs": [
    {
     "data": {
      "text/plain": [
       "(10668, 11)"
      ]
     },
     "execution_count": 36,
     "metadata": {},
     "output_type": "execute_result"
    }
   ],
   "source": [
    "Hp_data.shape"
   ]
  },
  {
   "cell_type": "code",
   "execution_count": 37,
   "metadata": {},
   "outputs": [],
   "source": [
    "Hp_data = Hp_data.dropna(axis=0)"
   ]
  },
  {
   "cell_type": "code",
   "execution_count": 38,
   "metadata": {},
   "outputs": [
    {
     "data": {
      "text/plain": [
       "audi_price        0\n",
       "cclass_price      0\n",
       "ford_price        0\n",
       "merc_price        0\n",
       "bmw_price         0\n",
       "toyota_price      0\n",
       "vw_price          0\n",
       "hyundi_price      0\n",
       "focus_price       0\n",
       "skoda_price       0\n",
       "vauxhall_price    0\n",
       "dtype: int64"
      ]
     },
     "execution_count": 38,
     "metadata": {},
     "output_type": "execute_result"
    }
   ],
   "source": [
    "Hp_data.isnull().sum()"
   ]
  },
  {
   "cell_type": "code",
   "execution_count": 39,
   "metadata": {},
   "outputs": [
    {
     "data": {
      "text/html": [
       "<div>\n",
       "<style scoped>\n",
       "    .dataframe tbody tr th:only-of-type {\n",
       "        vertical-align: middle;\n",
       "    }\n",
       "\n",
       "    .dataframe tbody tr th {\n",
       "        vertical-align: top;\n",
       "    }\n",
       "\n",
       "    .dataframe thead th {\n",
       "        text-align: right;\n",
       "    }\n",
       "</style>\n",
       "<table border=\"1\" class=\"dataframe\">\n",
       "  <thead>\n",
       "    <tr style=\"text-align: right;\">\n",
       "      <th></th>\n",
       "      <th>audi_price</th>\n",
       "      <th>cclass_price</th>\n",
       "      <th>ford_price</th>\n",
       "      <th>merc_price</th>\n",
       "      <th>bmw_price</th>\n",
       "      <th>toyota_price</th>\n",
       "      <th>vw_price</th>\n",
       "      <th>hyundi_price</th>\n",
       "      <th>focus_price</th>\n",
       "      <th>skoda_price</th>\n",
       "      <th>vauxhall_price</th>\n",
       "    </tr>\n",
       "  </thead>\n",
       "  <tbody>\n",
       "    <tr>\n",
       "      <th>3894</th>\n",
       "      <td>14000</td>\n",
       "      <td>14700.0</td>\n",
       "      <td>14497</td>\n",
       "      <td>22290</td>\n",
       "      <td>19980</td>\n",
       "      <td>5230.0</td>\n",
       "      <td>24250</td>\n",
       "      <td>8290.0</td>\n",
       "      <td>5939.0</td>\n",
       "      <td>20990.0</td>\n",
       "      <td>5691</td>\n",
       "    </tr>\n",
       "    <tr>\n",
       "      <th>3895</th>\n",
       "      <td>30990</td>\n",
       "      <td>18500.0</td>\n",
       "      <td>16497</td>\n",
       "      <td>21290</td>\n",
       "      <td>17980</td>\n",
       "      <td>8500.0</td>\n",
       "      <td>17500</td>\n",
       "      <td>12990.0</td>\n",
       "      <td>11748.0</td>\n",
       "      <td>21690.0</td>\n",
       "      <td>9998</td>\n",
       "    </tr>\n",
       "    <tr>\n",
       "      <th>3896</th>\n",
       "      <td>15490</td>\n",
       "      <td>11900.0</td>\n",
       "      <td>10981</td>\n",
       "      <td>24490</td>\n",
       "      <td>12980</td>\n",
       "      <td>7500.0</td>\n",
       "      <td>26490</td>\n",
       "      <td>22990.0</td>\n",
       "      <td>12999.0</td>\n",
       "      <td>6950.0</td>\n",
       "      <td>12990</td>\n",
       "    </tr>\n",
       "    <tr>\n",
       "      <th>3897</th>\n",
       "      <td>20990</td>\n",
       "      <td>11300.0</td>\n",
       "      <td>10690</td>\n",
       "      <td>32290</td>\n",
       "      <td>20440</td>\n",
       "      <td>7500.0</td>\n",
       "      <td>20290</td>\n",
       "      <td>12990.0</td>\n",
       "      <td>7999.0</td>\n",
       "      <td>10950.0</td>\n",
       "      <td>8970</td>\n",
       "    </tr>\n",
       "    <tr>\n",
       "      <th>3898</th>\n",
       "      <td>12990</td>\n",
       "      <td>14800.0</td>\n",
       "      <td>8690</td>\n",
       "      <td>22390</td>\n",
       "      <td>17980</td>\n",
       "      <td>8250.0</td>\n",
       "      <td>17290</td>\n",
       "      <td>7622.0</td>\n",
       "      <td>7500.0</td>\n",
       "      <td>32950.0</td>\n",
       "      <td>14990</td>\n",
       "    </tr>\n",
       "  </tbody>\n",
       "</table>\n",
       "</div>"
      ],
      "text/plain": [
       "      audi_price  cclass_price  ford_price  merc_price  bmw_price  \\\n",
       "3894       14000       14700.0       14497       22290      19980   \n",
       "3895       30990       18500.0       16497       21290      17980   \n",
       "3896       15490       11900.0       10981       24490      12980   \n",
       "3897       20990       11300.0       10690       32290      20440   \n",
       "3898       12990       14800.0        8690       22390      17980   \n",
       "\n",
       "      toyota_price  vw_price  hyundi_price  focus_price  skoda_price  \\\n",
       "3894        5230.0     24250        8290.0       5939.0      20990.0   \n",
       "3895        8500.0     17500       12990.0      11748.0      21690.0   \n",
       "3896        7500.0     26490       22990.0      12999.0       6950.0   \n",
       "3897        7500.0     20290       12990.0       7999.0      10950.0   \n",
       "3898        8250.0     17290        7622.0       7500.0      32950.0   \n",
       "\n",
       "      vauxhall_price  \n",
       "3894            5691  \n",
       "3895            9998  \n",
       "3896           12990  \n",
       "3897            8970  \n",
       "3898           14990  "
      ]
     },
     "execution_count": 39,
     "metadata": {},
     "output_type": "execute_result"
    }
   ],
   "source": [
    "Hp_data.tail()"
   ]
  },
  {
   "cell_type": "code",
   "execution_count": 40,
   "metadata": {},
   "outputs": [
    {
     "data": {
      "text/html": [
       "<div>\n",
       "<style scoped>\n",
       "    .dataframe tbody tr th:only-of-type {\n",
       "        vertical-align: middle;\n",
       "    }\n",
       "\n",
       "    .dataframe tbody tr th {\n",
       "        vertical-align: top;\n",
       "    }\n",
       "\n",
       "    .dataframe thead th {\n",
       "        text-align: right;\n",
       "    }\n",
       "</style>\n",
       "<table border=\"1\" class=\"dataframe\">\n",
       "  <thead>\n",
       "    <tr style=\"text-align: right;\">\n",
       "      <th></th>\n",
       "      <th>audi_price</th>\n",
       "      <th>cclass_price</th>\n",
       "      <th>ford_price</th>\n",
       "      <th>merc_price</th>\n",
       "      <th>bmw_price</th>\n",
       "      <th>toyota_price</th>\n",
       "      <th>vw_price</th>\n",
       "      <th>hyundi_price</th>\n",
       "      <th>focus_price</th>\n",
       "      <th>skoda_price</th>\n",
       "      <th>vauxhall_price</th>\n",
       "    </tr>\n",
       "  </thead>\n",
       "  <tbody>\n",
       "    <tr>\n",
       "      <th>count</th>\n",
       "      <td>3899.000000</td>\n",
       "      <td>3899.000000</td>\n",
       "      <td>3899.000000</td>\n",
       "      <td>3899.000000</td>\n",
       "      <td>3899.000000</td>\n",
       "      <td>3899.000000</td>\n",
       "      <td>3899.000000</td>\n",
       "      <td>3899.000000</td>\n",
       "      <td>3899.000000</td>\n",
       "      <td>3899.000000</td>\n",
       "      <td>3899.000000</td>\n",
       "    </tr>\n",
       "    <tr>\n",
       "      <th>mean</th>\n",
       "      <td>21930.878943</td>\n",
       "      <td>23674.286997</td>\n",
       "      <td>12195.252629</td>\n",
       "      <td>24183.439600</td>\n",
       "      <td>24297.892793</td>\n",
       "      <td>12528.963837</td>\n",
       "      <td>18322.334188</td>\n",
       "      <td>12997.525006</td>\n",
       "      <td>13815.002565</td>\n",
       "      <td>14274.081303</td>\n",
       "      <td>8563.852526</td>\n",
       "    </tr>\n",
       "    <tr>\n",
       "      <th>std</th>\n",
       "      <td>10481.117871</td>\n",
       "      <td>8960.218218</td>\n",
       "      <td>4465.971012</td>\n",
       "      <td>10814.908567</td>\n",
       "      <td>10691.434398</td>\n",
       "      <td>5122.185277</td>\n",
       "      <td>5794.282970</td>\n",
       "      <td>5853.828396</td>\n",
       "      <td>4354.154256</td>\n",
       "      <td>6167.579830</td>\n",
       "      <td>2634.048736</td>\n",
       "    </tr>\n",
       "    <tr>\n",
       "      <th>min</th>\n",
       "      <td>6800.000000</td>\n",
       "      <td>1290.000000</td>\n",
       "      <td>3495.000000</td>\n",
       "      <td>2880.000000</td>\n",
       "      <td>5299.000000</td>\n",
       "      <td>899.000000</td>\n",
       "      <td>1287.000000</td>\n",
       "      <td>3491.000000</td>\n",
       "      <td>1450.000000</td>\n",
       "      <td>2795.000000</td>\n",
       "      <td>495.000000</td>\n",
       "    </tr>\n",
       "    <tr>\n",
       "      <th>25%</th>\n",
       "      <td>15263.000000</td>\n",
       "      <td>17690.000000</td>\n",
       "      <td>8995.000000</td>\n",
       "      <td>17767.500000</td>\n",
       "      <td>17338.000000</td>\n",
       "      <td>9440.000000</td>\n",
       "      <td>13748.000000</td>\n",
       "      <td>8295.000000</td>\n",
       "      <td>10699.000000</td>\n",
       "      <td>9495.000000</td>\n",
       "      <td>6999.000000</td>\n",
       "    </tr>\n",
       "    <tr>\n",
       "      <th>50%</th>\n",
       "      <td>19465.000000</td>\n",
       "      <td>22980.000000</td>\n",
       "      <td>11000.000000</td>\n",
       "      <td>21498.000000</td>\n",
       "      <td>22050.000000</td>\n",
       "      <td>11500.000000</td>\n",
       "      <td>17995.000000</td>\n",
       "      <td>12195.000000</td>\n",
       "      <td>13498.000000</td>\n",
       "      <td>12995.000000</td>\n",
       "      <td>8300.000000</td>\n",
       "    </tr>\n",
       "    <tr>\n",
       "      <th>75%</th>\n",
       "      <td>25998.500000</td>\n",
       "      <td>28900.000000</td>\n",
       "      <td>15000.000000</td>\n",
       "      <td>27995.000000</td>\n",
       "      <td>28272.500000</td>\n",
       "      <td>14295.000000</td>\n",
       "      <td>21500.000000</td>\n",
       "      <td>15990.000000</td>\n",
       "      <td>16995.000000</td>\n",
       "      <td>17990.000000</td>\n",
       "      <td>9996.500000</td>\n",
       "    </tr>\n",
       "    <tr>\n",
       "      <th>max</th>\n",
       "      <td>137995.000000</td>\n",
       "      <td>88995.000000</td>\n",
       "      <td>42489.000000</td>\n",
       "      <td>149948.000000</td>\n",
       "      <td>123456.000000</td>\n",
       "      <td>37440.000000</td>\n",
       "      <td>40999.000000</td>\n",
       "      <td>43995.000000</td>\n",
       "      <td>54995.000000</td>\n",
       "      <td>38990.000000</td>\n",
       "      <td>21105.000000</td>\n",
       "    </tr>\n",
       "  </tbody>\n",
       "</table>\n",
       "</div>"
      ],
      "text/plain": [
       "          audi_price  cclass_price    ford_price     merc_price  \\\n",
       "count    3899.000000   3899.000000   3899.000000    3899.000000   \n",
       "mean    21930.878943  23674.286997  12195.252629   24183.439600   \n",
       "std     10481.117871   8960.218218   4465.971012   10814.908567   \n",
       "min      6800.000000   1290.000000   3495.000000    2880.000000   \n",
       "25%     15263.000000  17690.000000   8995.000000   17767.500000   \n",
       "50%     19465.000000  22980.000000  11000.000000   21498.000000   \n",
       "75%     25998.500000  28900.000000  15000.000000   27995.000000   \n",
       "max    137995.000000  88995.000000  42489.000000  149948.000000   \n",
       "\n",
       "           bmw_price  toyota_price      vw_price  hyundi_price   focus_price  \\\n",
       "count    3899.000000   3899.000000   3899.000000   3899.000000   3899.000000   \n",
       "mean    24297.892793  12528.963837  18322.334188  12997.525006  13815.002565   \n",
       "std     10691.434398   5122.185277   5794.282970   5853.828396   4354.154256   \n",
       "min      5299.000000    899.000000   1287.000000   3491.000000   1450.000000   \n",
       "25%     17338.000000   9440.000000  13748.000000   8295.000000  10699.000000   \n",
       "50%     22050.000000  11500.000000  17995.000000  12195.000000  13498.000000   \n",
       "75%     28272.500000  14295.000000  21500.000000  15990.000000  16995.000000   \n",
       "max    123456.000000  37440.000000  40999.000000  43995.000000  54995.000000   \n",
       "\n",
       "        skoda_price  vauxhall_price  \n",
       "count   3899.000000     3899.000000  \n",
       "mean   14274.081303     8563.852526  \n",
       "std     6167.579830     2634.048736  \n",
       "min     2795.000000      495.000000  \n",
       "25%     9495.000000     6999.000000  \n",
       "50%    12995.000000     8300.000000  \n",
       "75%    17990.000000     9996.500000  \n",
       "max    38990.000000    21105.000000  "
      ]
     },
     "execution_count": 40,
     "metadata": {},
     "output_type": "execute_result"
    }
   ],
   "source": [
    "Hp_data.describe()"
   ]
  },
  {
   "cell_type": "code",
   "execution_count": 41,
   "metadata": {},
   "outputs": [
    {
     "data": {
      "text/plain": [
       "(3899, 11)"
      ]
     },
     "execution_count": 41,
     "metadata": {},
     "output_type": "execute_result"
    }
   ],
   "source": [
    "Hp_data.shape"
   ]
  },
  {
   "cell_type": "code",
   "execution_count": 42,
   "metadata": {},
   "outputs": [],
   "source": [
    "for x in Hp_data:\n",
    "    q75,q25 = np.percentile(Hp_data.loc[:,x],[75,25])\n",
    "    intr_qr = q75-q25\n",
    "\n",
    "    max = q75+(1.5*intr_qr)\n",
    "    min = q25-(1.5*intr_qr)\n",
    "\n",
    "    Hp_data.loc[Hp_data[x] < min,x] = np.nan\n",
    "    Hp_data.loc[Hp_data[x] > max,x] = np.nan"
   ]
  },
  {
   "cell_type": "code",
   "execution_count": 43,
   "metadata": {},
   "outputs": [
    {
     "data": {
      "text/plain": [
       "audi_price        180\n",
       "cclass_price       80\n",
       "ford_price         51\n",
       "merc_price        219\n",
       "bmw_price         212\n",
       "toyota_price      283\n",
       "vw_price           54\n",
       "hyundi_price       95\n",
       "focus_price        42\n",
       "skoda_price        69\n",
       "vauxhall_price    173\n",
       "dtype: int64"
      ]
     },
     "execution_count": 43,
     "metadata": {},
     "output_type": "execute_result"
    }
   ],
   "source": [
    "Hp_data.isnull().sum()"
   ]
  },
  {
   "cell_type": "code",
   "execution_count": 44,
   "metadata": {},
   "outputs": [],
   "source": [
    "Hp_data = Hp_data.dropna(axis = 0)"
   ]
  },
  {
   "cell_type": "code",
   "execution_count": 45,
   "metadata": {},
   "outputs": [
    {
     "data": {
      "text/plain": [
       "audi_price        0\n",
       "cclass_price      0\n",
       "ford_price        0\n",
       "merc_price        0\n",
       "bmw_price         0\n",
       "toyota_price      0\n",
       "vw_price          0\n",
       "hyundi_price      0\n",
       "focus_price       0\n",
       "skoda_price       0\n",
       "vauxhall_price    0\n",
       "dtype: int64"
      ]
     },
     "execution_count": 45,
     "metadata": {},
     "output_type": "execute_result"
    }
   ],
   "source": [
    "Hp_data.isnull().sum()"
   ]
  },
  {
   "cell_type": "code",
   "execution_count": 46,
   "metadata": {},
   "outputs": [
    {
     "data": {
      "image/png": "[encoded data removed]",
      "text/plain": [
       "<Figure size 1080x432 with 1 Axes>"
      ]
     },
     "metadata": {},
     "output_type": "display_data"
    },
    {
     "data": {
      "text/plain": [
       "<Figure size 2160x1080 with 0 Axes>"
      ]
     },
     "metadata": {},
     "output_type": "display_data"
    }
   ],
   "source": [
    "plt.style.use('ggplot')\n",
    "ax = Hp_data.plot.box(figsize=(15, 6))\n",
    "plt.figure(figsize=(30, 15))\n",
    "ax.tick_params(axis='x', labelrotation=45, labelsize=10)\n",
    "#ax.xlabel('Car brands')\n",
    "#ax.ylabel('Prices')"
   ]
  },
  {
   "cell_type": "markdown",
   "metadata": {},
   "source": [
    "**Observations**\n",
    "- It becomes hard to tell from the plots, they look a little different, but are they? Lets apply some hypothesis tests \n",
    "\n",
    "\n",
    "\n",
    "**Parametric Statistical Hypothesis Tests: Analysis of Variance Test (ANOVA)** \n",
    "\n",
    "This tests whether the average car prices for the different models (brands) are significantly different.\n",
    "\n",
    "Interpretation:\n",
    "* H0: The average prices for all brands are equal\n",
    "* H1: One or more of the average prices for the brands are unequal"
   ]
  },
  {
   "cell_type": "code",
   "execution_count": 47,
   "metadata": {},
   "outputs": [
    {
     "name": "stdout",
     "output_type": "stream",
     "text": [
      "stat=4304.436, p=0.000\n",
      "The average prices for all brands are unequal\n"
     ]
    }
   ],
   "source": [
    "from scipy.stats import f_oneway\n",
    "data1 = Hp_data['audi_price']\n",
    "data2 = Hp_data['cclass_price']\n",
    "data3 = ford_df['price']\n",
    "data4 = merc_df['price']\n",
    "data5 = bmw_df['price']\n",
    "data6 = toyota_df['price']\n",
    "data7 = vw_df['price']\n",
    "data8 = hyundi_df['price']\n",
    "data9 = focus_df['price']\n",
    "data10 = skoda_df['price']\n",
    "data11 = vauxhall_df['price']\n",
    "\n",
    "stat, p = f_oneway(data1, data2, data3, data4, data5, data6, data7, data8, data9, data10, data11)\n",
    "print('stat=%.3f, p=%.3f' % (stat, p))\n",
    "if p > 0.05:\n",
    "    print('The average prices for all brands are equal')\n",
    "else:\n",
    "    print('The average prices for all brands are unequal')"
   ]
  },
  {
   "cell_type": "code",
   "execution_count": 48,
   "metadata": {},
   "outputs": [
    {
     "name": "stdout",
     "output_type": "stream",
     "text": [
      "stat=47.458, p=0.000\n",
      "The average prices for all brands are unequal\n"
     ]
    }
   ],
   "source": [
    "from scipy.stats import ttest_rel\n",
    "data1 = Hp_data['audi_price']\n",
    "data2 = Hp_data['cclass_price']\n",
    "data3 = Hp_data['ford_price']\n",
    "data4 = Hp_data['merc_price']\n",
    "data5 = Hp_data['bmw_price']\n",
    "data6 = Hp_data['toyota_price']\n",
    "data7 = Hp_data['vw_price']\n",
    "data8 = Hp_data['hyundi_price']\n",
    "data9 = Hp_data['focus_price']\n",
    "data10 = Hp_data['skoda_price']\n",
    "data11 = Hp_data['vauxhall_price']\n",
    "\n",
    "stat, p = ttest_rel(data10, data11) #, data3, data4) # data5, data6, data7, data8, data9, data10, data11)\n",
    "print('stat=%.3f, p=%.3f' % (stat, p))\n",
    "if p > 0.05:\n",
    "    print('The average prices for all brands are equal')\n",
    "else:\n",
    "    print('The average prices for all brands are unequal')"
   ]
  },
  {
   "cell_type": "markdown",
   "metadata": {},
   "source": [
    "Based on the above statistical results, since the **p-value is 0.000** and is less than **reject our null hypotheses** that the average prices for all brands are equal. Thats to say that our initial question 'Does the prices of some car's models significantly different from other models ?' can be given a Yes !!!."
   ]
  },
  {
   "cell_type": "markdown",
   "metadata": {},
   "source": [
    "### Step 5: Predict car prices (using suitable performance matrices)"
   ]
  },
  {
   "cell_type": "code",
   "execution_count": 49,
   "metadata": {
    "scrolled": true
   },
   "outputs": [],
   "source": [
    "#last_column = car_data['price']\n",
    "#df = car_data.pop('price')\n",
    "#df['price'] = last_column\n",
    "\n",
    "df = pd.DataFrame(car_data, columns=['year', 'transmission', 'mileage', 'fuelType', 'tax',\n",
    "       'mpg', 'engineSize', 'brand', 'price'])"
   ]
  },
  {
   "cell_type": "code",
   "execution_count": 50,
   "metadata": {},
   "outputs": [
    {
     "data": {
      "text/html": [
       "<div>\n",
       "<style scoped>\n",
       "    .dataframe tbody tr th:only-of-type {\n",
       "        vertical-align: middle;\n",
       "    }\n",
       "\n",
       "    .dataframe tbody tr th {\n",
       "        vertical-align: top;\n",
       "    }\n",
       "\n",
       "    .dataframe thead th {\n",
       "        text-align: right;\n",
       "    }\n",
       "</style>\n",
       "<table border=\"1\" class=\"dataframe\">\n",
       "  <thead>\n",
       "    <tr style=\"text-align: right;\">\n",
       "      <th></th>\n",
       "      <th>year</th>\n",
       "      <th>transmission</th>\n",
       "      <th>mileage</th>\n",
       "      <th>fuelType</th>\n",
       "      <th>tax</th>\n",
       "      <th>mpg</th>\n",
       "      <th>engineSize</th>\n",
       "      <th>brand</th>\n",
       "      <th>price</th>\n",
       "    </tr>\n",
       "  </thead>\n",
       "  <tbody>\n",
       "    <tr>\n",
       "      <th>0</th>\n",
       "      <td>2017</td>\n",
       "      <td>Manual</td>\n",
       "      <td>15735</td>\n",
       "      <td>Petrol</td>\n",
       "      <td>150</td>\n",
       "      <td>55.4</td>\n",
       "      <td>1.4</td>\n",
       "      <td>audi</td>\n",
       "      <td>12500</td>\n",
       "    </tr>\n",
       "    <tr>\n",
       "      <th>1</th>\n",
       "      <td>2016</td>\n",
       "      <td>Automatic</td>\n",
       "      <td>36203</td>\n",
       "      <td>Diesel</td>\n",
       "      <td>20</td>\n",
       "      <td>64.2</td>\n",
       "      <td>2.0</td>\n",
       "      <td>audi</td>\n",
       "      <td>16500</td>\n",
       "    </tr>\n",
       "    <tr>\n",
       "      <th>2</th>\n",
       "      <td>2016</td>\n",
       "      <td>Manual</td>\n",
       "      <td>29946</td>\n",
       "      <td>Petrol</td>\n",
       "      <td>30</td>\n",
       "      <td>55.4</td>\n",
       "      <td>1.4</td>\n",
       "      <td>audi</td>\n",
       "      <td>11000</td>\n",
       "    </tr>\n",
       "    <tr>\n",
       "      <th>3</th>\n",
       "      <td>2017</td>\n",
       "      <td>Automatic</td>\n",
       "      <td>25952</td>\n",
       "      <td>Diesel</td>\n",
       "      <td>145</td>\n",
       "      <td>67.3</td>\n",
       "      <td>2.0</td>\n",
       "      <td>audi</td>\n",
       "      <td>16800</td>\n",
       "    </tr>\n",
       "    <tr>\n",
       "      <th>4</th>\n",
       "      <td>2019</td>\n",
       "      <td>Manual</td>\n",
       "      <td>1998</td>\n",
       "      <td>Petrol</td>\n",
       "      <td>145</td>\n",
       "      <td>49.6</td>\n",
       "      <td>1.0</td>\n",
       "      <td>audi</td>\n",
       "      <td>17300</td>\n",
       "    </tr>\n",
       "  </tbody>\n",
       "</table>\n",
       "</div>"
      ],
      "text/plain": [
       "   year transmission  mileage fuelType  tax   mpg  engineSize brand  price\n",
       "0  2017       Manual    15735   Petrol  150  55.4         1.4  audi  12500\n",
       "1  2016    Automatic    36203   Diesel   20  64.2         2.0  audi  16500\n",
       "2  2016       Manual    29946   Petrol   30  55.4         1.4  audi  11000\n",
       "3  2017    Automatic    25952   Diesel  145  67.3         2.0  audi  16800\n",
       "4  2019       Manual     1998   Petrol  145  49.6         1.0  audi  17300"
      ]
     },
     "execution_count": 50,
     "metadata": {},
     "output_type": "execute_result"
    }
   ],
   "source": [
    "df.head()"
   ]
  },
  {
   "cell_type": "code",
   "execution_count": 51,
   "metadata": {},
   "outputs": [],
   "source": [
    "# The data is being swamped with data with large absolute values. Hence, the need to scale. \n",
    "\n",
    "from sklearn.preprocessing import MinMaxScaler\n",
    "\n",
    "scaler = MinMaxScaler(feature_range=(0, 1))\n",
    "\n",
    "# Scale only the input data\n",
    "input_data = df[['year','mileage','tax', 'mpg', 'engineSize']].to_numpy()\n",
    "data_scaled = scaler.fit_transform(input_data)\n",
    "data_scaled_df = pd.DataFrame (data_scaled, columns = ['year','mileage','tax', 'mpg', 'engineSize'])"
   ]
  },
  {
   "cell_type": "code",
   "execution_count": 52,
   "metadata": {},
   "outputs": [],
   "source": [
    "data_scaled_df['transmission'] = df['transmission'].tolist()\n",
    "data_scaled_df['fuelType'] = df['fuelType'].tolist()\n",
    "data_scaled_df['brand'] = df['brand'].tolist()"
   ]
  },
  {
   "cell_type": "code",
   "execution_count": 53,
   "metadata": {
    "scrolled": true
   },
   "outputs": [
    {
     "data": {
      "text/html": [
       "<div>\n",
       "<style scoped>\n",
       "    .dataframe tbody tr th:only-of-type {\n",
       "        vertical-align: middle;\n",
       "    }\n",
       "\n",
       "    .dataframe tbody tr th {\n",
       "        vertical-align: top;\n",
       "    }\n",
       "\n",
       "    .dataframe thead th {\n",
       "        text-align: right;\n",
       "    }\n",
       "</style>\n",
       "<table border=\"1\" class=\"dataframe\">\n",
       "  <thead>\n",
       "    <tr style=\"text-align: right;\">\n",
       "      <th></th>\n",
       "      <th>year</th>\n",
       "      <th>mileage</th>\n",
       "      <th>tax</th>\n",
       "      <th>mpg</th>\n",
       "      <th>engineSize</th>\n",
       "      <th>transmission</th>\n",
       "      <th>fuelType</th>\n",
       "      <th>brand</th>\n",
       "    </tr>\n",
       "  </thead>\n",
       "  <tbody>\n",
       "    <tr>\n",
       "      <th>0</th>\n",
       "      <td>0.94</td>\n",
       "      <td>0.048712</td>\n",
       "      <td>0.258621</td>\n",
       "      <td>0.117109</td>\n",
       "      <td>0.212121</td>\n",
       "      <td>Manual</td>\n",
       "      <td>Petrol</td>\n",
       "      <td>audi</td>\n",
       "    </tr>\n",
       "    <tr>\n",
       "      <th>1</th>\n",
       "      <td>0.92</td>\n",
       "      <td>0.112081</td>\n",
       "      <td>0.034483</td>\n",
       "      <td>0.135813</td>\n",
       "      <td>0.303030</td>\n",
       "      <td>Automatic</td>\n",
       "      <td>Diesel</td>\n",
       "      <td>audi</td>\n",
       "    </tr>\n",
       "    <tr>\n",
       "      <th>2</th>\n",
       "      <td>0.92</td>\n",
       "      <td>0.092709</td>\n",
       "      <td>0.051724</td>\n",
       "      <td>0.117109</td>\n",
       "      <td>0.212121</td>\n",
       "      <td>Manual</td>\n",
       "      <td>Petrol</td>\n",
       "      <td>audi</td>\n",
       "    </tr>\n",
       "    <tr>\n",
       "      <th>3</th>\n",
       "      <td>0.94</td>\n",
       "      <td>0.080344</td>\n",
       "      <td>0.250000</td>\n",
       "      <td>0.142402</td>\n",
       "      <td>0.303030</td>\n",
       "      <td>Automatic</td>\n",
       "      <td>Diesel</td>\n",
       "      <td>audi</td>\n",
       "    </tr>\n",
       "    <tr>\n",
       "      <th>4</th>\n",
       "      <td>0.98</td>\n",
       "      <td>0.006183</td>\n",
       "      <td>0.250000</td>\n",
       "      <td>0.104782</td>\n",
       "      <td>0.151515</td>\n",
       "      <td>Manual</td>\n",
       "      <td>Petrol</td>\n",
       "      <td>audi</td>\n",
       "    </tr>\n",
       "  </tbody>\n",
       "</table>\n",
       "</div>"
      ],
      "text/plain": [
       "   year   mileage       tax       mpg  engineSize transmission fuelType brand\n",
       "0  0.94  0.048712  0.258621  0.117109    0.212121       Manual   Petrol  audi\n",
       "1  0.92  0.112081  0.034483  0.135813    0.303030    Automatic   Diesel  audi\n",
       "2  0.92  0.092709  0.051724  0.117109    0.212121       Manual   Petrol  audi\n",
       "3  0.94  0.080344  0.250000  0.142402    0.303030    Automatic   Diesel  audi\n",
       "4  0.98  0.006183  0.250000  0.104782    0.151515       Manual   Petrol  audi"
      ]
     },
     "execution_count": 53,
     "metadata": {},
     "output_type": "execute_result"
    }
   ],
   "source": [
    "data_scaled_df.head()"
   ]
  },
  {
   "cell_type": "code",
   "execution_count": 54,
   "metadata": {},
   "outputs": [],
   "source": [
    "from sklearn.preprocessing import OrdinalEncoder\n",
    "enc = OrdinalEncoder()\n",
    "enc.fit(data_scaled_df[['transmission', 'fuelType', 'brand']])\n",
    "data_scaled_df[['transmission', 'fuelType', 'brand']] = enc.transform(data_scaled_df[['transmission', 'fuelType', 'brand']])"
   ]
  },
  {
   "cell_type": "code",
   "execution_count": 55,
   "metadata": {},
   "outputs": [
    {
     "data": {
      "text/html": [
       "<div>\n",
       "<style scoped>\n",
       "    .dataframe tbody tr th:only-of-type {\n",
       "        vertical-align: middle;\n",
       "    }\n",
       "\n",
       "    .dataframe tbody tr th {\n",
       "        vertical-align: top;\n",
       "    }\n",
       "\n",
       "    .dataframe thead th {\n",
       "        text-align: right;\n",
       "    }\n",
       "</style>\n",
       "<table border=\"1\" class=\"dataframe\">\n",
       "  <thead>\n",
       "    <tr style=\"text-align: right;\">\n",
       "      <th></th>\n",
       "      <th>year</th>\n",
       "      <th>mileage</th>\n",
       "      <th>tax</th>\n",
       "      <th>mpg</th>\n",
       "      <th>engineSize</th>\n",
       "      <th>transmission</th>\n",
       "      <th>fuelType</th>\n",
       "      <th>brand</th>\n",
       "    </tr>\n",
       "  </thead>\n",
       "  <tbody>\n",
       "    <tr>\n",
       "      <th>0</th>\n",
       "      <td>0.94</td>\n",
       "      <td>0.048712</td>\n",
       "      <td>0.258621</td>\n",
       "      <td>0.117109</td>\n",
       "      <td>0.212121</td>\n",
       "      <td>1.0</td>\n",
       "      <td>4.0</td>\n",
       "      <td>0.0</td>\n",
       "    </tr>\n",
       "    <tr>\n",
       "      <th>1</th>\n",
       "      <td>0.92</td>\n",
       "      <td>0.112081</td>\n",
       "      <td>0.034483</td>\n",
       "      <td>0.135813</td>\n",
       "      <td>0.303030</td>\n",
       "      <td>0.0</td>\n",
       "      <td>0.0</td>\n",
       "      <td>0.0</td>\n",
       "    </tr>\n",
       "    <tr>\n",
       "      <th>2</th>\n",
       "      <td>0.92</td>\n",
       "      <td>0.092709</td>\n",
       "      <td>0.051724</td>\n",
       "      <td>0.117109</td>\n",
       "      <td>0.212121</td>\n",
       "      <td>1.0</td>\n",
       "      <td>4.0</td>\n",
       "      <td>0.0</td>\n",
       "    </tr>\n",
       "    <tr>\n",
       "      <th>3</th>\n",
       "      <td>0.94</td>\n",
       "      <td>0.080344</td>\n",
       "      <td>0.250000</td>\n",
       "      <td>0.142402</td>\n",
       "      <td>0.303030</td>\n",
       "      <td>0.0</td>\n",
       "      <td>0.0</td>\n",
       "      <td>0.0</td>\n",
       "    </tr>\n",
       "    <tr>\n",
       "      <th>4</th>\n",
       "      <td>0.98</td>\n",
       "      <td>0.006183</td>\n",
       "      <td>0.250000</td>\n",
       "      <td>0.104782</td>\n",
       "      <td>0.151515</td>\n",
       "      <td>1.0</td>\n",
       "      <td>4.0</td>\n",
       "      <td>0.0</td>\n",
       "    </tr>\n",
       "  </tbody>\n",
       "</table>\n",
       "</div>"
      ],
      "text/plain": [
       "   year   mileage       tax       mpg  engineSize  transmission  fuelType  \\\n",
       "0  0.94  0.048712  0.258621  0.117109    0.212121           1.0       4.0   \n",
       "1  0.92  0.112081  0.034483  0.135813    0.303030           0.0       0.0   \n",
       "2  0.92  0.092709  0.051724  0.117109    0.212121           1.0       4.0   \n",
       "3  0.94  0.080344  0.250000  0.142402    0.303030           0.0       0.0   \n",
       "4  0.98  0.006183  0.250000  0.104782    0.151515           1.0       4.0   \n",
       "\n",
       "   brand  \n",
       "0    0.0  \n",
       "1    0.0  \n",
       "2    0.0  \n",
       "3    0.0  \n",
       "4    0.0  "
      ]
     },
     "execution_count": 55,
     "metadata": {},
     "output_type": "execute_result"
    }
   ],
   "source": [
    "data_scaled_df.head()"
   ]
  },
  {
   "cell_type": "code",
   "execution_count": 56,
   "metadata": {},
   "outputs": [],
   "source": [
    "X = data_scaled_df\n",
    "y = df['price']"
   ]
  },
  {
   "cell_type": "code",
   "execution_count": 57,
   "metadata": {},
   "outputs": [],
   "source": [
    "# split data into train and validation data\n",
    "from sklearn.model_selection import train_test_split\n",
    "\n",
    "X_train, X_valid, y_train, y_valid = train_test_split(X, y, test_size=0.3, random_state=42)"
   ]
  },
  {
   "cell_type": "markdown",
   "metadata": {},
   "source": [
    "**Linear Regression Model**"
   ]
  },
  {
   "cell_type": "code",
   "execution_count": 58,
   "metadata": {
    "scrolled": false
   },
   "outputs": [
    {
     "name": "stdout",
     "output_type": "stream",
     "text": [
      "MAE: 3475.98190713512\n",
      "MSE: 27509579.69547355\n",
      "RMSE: 5244.957549444376\n",
      "R2_score: 0.7176982294289196\n",
      "__________________________________________\n",
      "\n",
      "Accuracy on train data: 0.7153980527679171\n",
      "Accuracy on test data: 0.7176982294289196\n"
     ]
    }
   ],
   "source": [
    "from sklearn.linear_model import LinearRegression\n",
    "lr_model = LinearRegression()\n",
    "lr_model.fit(X_train, y_train)\n",
    "\n",
    "y_pred_lr= lr_model.predict(X_valid)\n",
    "\n",
    "from sklearn import metrics\n",
    "from sklearn.metrics import r2_score\n",
    "\n",
    "print('MAE: {}'.format(metrics.mean_absolute_error(y_valid, y_pred_lr)))\n",
    "print('MSE: {}'.format(metrics.mean_squared_error(y_valid, y_pred_lr)))\n",
    "print('RMSE: {}'.format(np.sqrt(metrics.mean_squared_error(y_valid, y_pred_lr))))\n",
    "print('R2_score: {}'.format(r2_score(y_valid, y_pred_lr)))\n",
    "print('__________________________________________\\n')\n",
    "print('Accuracy on train data: {}'.format(lr_model.score(X_train, y_train)))\n",
    "print('Accuracy on test data: {}'.format(lr_model.score(X_valid, y_valid)))"
   ]
  },
  {
   "cell_type": "markdown",
   "metadata": {},
   "source": [
    "**Decision Tree Regressor**"
   ]
  },
  {
   "cell_type": "code",
   "execution_count": 59,
   "metadata": {},
   "outputs": [
    {
     "name": "stdout",
     "output_type": "stream",
     "text": [
      "MAE: 1693.453469342995\n",
      "MSE: 11123375.109793276\n",
      "RMSE: 3335.1724257964947\n",
      "R2_score: 0.8858525458047034\n",
      "__________________________________________\n",
      "\n",
      "Accuracy on train data: 0.9991864458887934\n",
      "Accuracy on test data: 0.8858525458047034\n"
     ]
    }
   ],
   "source": [
    "from sklearn.tree import DecisionTreeRegressor\n",
    "dtr_model = DecisionTreeRegressor(random_state = 0)\n",
    "dtr_model.fit(X_train, y_train)\n",
    "\n",
    "y_pred_dtr = dtr_model.predict(X_valid)\n",
    "\n",
    "print('MAE: {}'.format(metrics.mean_absolute_error(y_valid, y_pred_dtr)))\n",
    "print('MSE: {}'.format(metrics.mean_squared_error(y_valid, y_pred_dtr)))\n",
    "print('RMSE: {}'.format(np.sqrt(metrics.mean_squared_error(y_valid, y_pred_dtr))))\n",
    "print('R2_score: {}'.format(r2_score(y_valid, y_pred_dtr)))\n",
    "print('__________________________________________\\n')\n",
    "#print('Accuracy on train data: {}'.format(accuracy_score(y_train, dtr_model.predict(X_train))))\n",
    "#print('Accuracy on test data: {}'.format(accuracy_score(y_test, y_pred_dtr)))\n",
    "print('Accuracy on train data: {}'.format(dtr_model.score(X_train, y_train)))\n",
    "print('Accuracy on test data: {}'.format(dtr_model.score(X_valid, y_valid)))"
   ]
  },
  {
   "cell_type": "markdown",
   "metadata": {},
   "source": [
    "**K-Neighbors Regressor**"
   ]
  },
  {
   "cell_type": "code",
   "execution_count": 60,
   "metadata": {},
   "outputs": [
    {
     "name": "stdout",
     "output_type": "stream",
     "text": [
      "MAE: 1550.2463301519024\n",
      "MSE: 7772923.833328405\n",
      "RMSE: 2787.9963833061915\n",
      "R2_score: 0.9202346896988829\n",
      "__________________________________________\n",
      "\n",
      "Accuracy on train data: 0.9486944322075054\n",
      "Accuracy on test data: 0.9202346896988829\n"
     ]
    }
   ],
   "source": [
    "from sklearn.neighbors import KNeighborsRegressor\n",
    "knr_model = KNeighborsRegressor()\n",
    "knr_model.fit(X_train, y_train)\n",
    "\n",
    "y_pred_knr = knr_model.predict(X_valid)\n",
    "\n",
    "print('MAE: {}'.format(metrics.mean_absolute_error(y_valid, y_pred_knr)))\n",
    "print('MSE: {}'.format(metrics.mean_squared_error(y_valid, y_pred_knr)))\n",
    "print('RMSE: {}'.format(np.sqrt(metrics.mean_squared_error(y_valid, y_pred_knr))))\n",
    "print('R2_score: {}'.format(r2_score(y_valid, y_pred_knr)))\n",
    "print('__________________________________________\\n')\n",
    "print('Accuracy on train data: {}'.format(knr_model.score(X_train, y_train)))\n",
    "print('Accuracy on test data: {}'.format(knr_model.score(X_valid, y_valid)))"
   ]
  },
  {
   "cell_type": "markdown",
   "metadata": {},
   "source": [
    "**Random Forest Regressor**"
   ]
  },
  {
   "cell_type": "code",
   "execution_count": 61,
   "metadata": {},
   "outputs": [
    {
     "name": "stdout",
     "output_type": "stream",
     "text": [
      "MAE: 1360.9597660263541\n",
      "MSE: 5827352.932569963\n",
      "RMSE: 2413.991079637612\n",
      "R2_score: 0.9402000296326679\n",
      "__________________________________________\n",
      "\n",
      "Accuracy on train data: 0.9910430207195131\n",
      "Accuracy on test data: 0.9402000296326679\n"
     ]
    }
   ],
   "source": [
    "from sklearn.ensemble import RandomForestRegressor\n",
    "rfr_model = RandomForestRegressor()     # n_estimators=100, max_depth=10, random_state = 0)\n",
    "rfr_model.fit(X_train, y_train)\n",
    "\n",
    "y_pred_rfr = rfr_model.predict(X_valid)\n",
    "\n",
    "print('MAE: {}'.format(metrics.mean_absolute_error(y_valid, y_pred_rfr)))\n",
    "print('MSE: {}'.format(metrics.mean_squared_error(y_valid, y_pred_rfr)))\n",
    "print('RMSE: {}'.format(np.sqrt(metrics.mean_squared_error(y_valid, y_pred_rfr))))\n",
    "print('R2_score: {}'.format(r2_score(y_valid, y_pred_rfr)))\n",
    "print('__________________________________________\\n')\n",
    "print('Accuracy on train data: {}'.format(rfr_model.score(X_train, y_train)))\n",
    "print('Accuracy on test data: {}'.format(rfr_model.score(X_valid, y_valid)))"
   ]
  },
  {
   "cell_type": "code",
   "execution_count": 62,
   "metadata": {},
   "outputs": [
    {
     "data": {
      "text/plain": [
       "Text(0.5, 0, 'Feature importance')"
      ]
     },
     "execution_count": 62,
     "metadata": {},
     "output_type": "execute_result"
    },
    {
     "data": {
      "image/png": "[encoded data removed]",
      "text/plain": [
       "<Figure size 720x432 with 1 Axes>"
      ]
     },
     "metadata": {},
     "output_type": "display_data"
    }
   ],
   "source": [
    "plt.style.use('ggplot')\n",
    "plt.figure(figsize=(10, 6))\n",
    "rfr_model.feature_importances_\n",
    "#sns.set_style(\"whitegrid\")\n",
    "plt.barh(X.columns, rfr_model.feature_importances_, color='#6AB187')\n",
    "plt.xlabel('Feature importance')"
   ]
  },
  {
   "cell_type": "code",
   "execution_count": 63,
   "metadata": {},
   "outputs": [],
   "source": [
    "comp_table = pd.DataFrame()\n",
    "\n",
    "comp_table['Models'] = ['LinearRegression', 'DecisionTree', 'KNN', 'RF_Regression']\n",
    "comp_table['Accuracy'] = [lr_model.score(X_valid, y_valid), dtr_model.score(X_valid, y_valid), \n",
    "                          knr_model.score(X_valid, y_valid), rfr_model.score(X_valid, y_valid)]"
   ]
  },
  {
   "cell_type": "code",
   "execution_count": 64,
   "metadata": {
    "scrolled": true
   },
   "outputs": [
    {
     "data": {
      "text/html": [
       "<div>\n",
       "<style scoped>\n",
       "    .dataframe tbody tr th:only-of-type {\n",
       "        vertical-align: middle;\n",
       "    }\n",
       "\n",
       "    .dataframe tbody tr th {\n",
       "        vertical-align: top;\n",
       "    }\n",
       "\n",
       "    .dataframe thead th {\n",
       "        text-align: right;\n",
       "    }\n",
       "</style>\n",
       "<table border=\"1\" class=\"dataframe\">\n",
       "  <thead>\n",
       "    <tr style=\"text-align: right;\">\n",
       "      <th></th>\n",
       "      <th>Models</th>\n",
       "      <th>Accuracy</th>\n",
       "    </tr>\n",
       "  </thead>\n",
       "  <tbody>\n",
       "    <tr>\n",
       "      <th>0</th>\n",
       "      <td>LinearRegression</td>\n",
       "      <td>0.717698</td>\n",
       "    </tr>\n",
       "    <tr>\n",
       "      <th>1</th>\n",
       "      <td>DecisionTree</td>\n",
       "      <td>0.885853</td>\n",
       "    </tr>\n",
       "    <tr>\n",
       "      <th>2</th>\n",
       "      <td>KNN</td>\n",
       "      <td>0.920235</td>\n",
       "    </tr>\n",
       "    <tr>\n",
       "      <th>3</th>\n",
       "      <td>RF_Regression</td>\n",
       "      <td>0.940200</td>\n",
       "    </tr>\n",
       "  </tbody>\n",
       "</table>\n",
       "</div>"
      ],
      "text/plain": [
       "             Models  Accuracy\n",
       "0  LinearRegression  0.717698\n",
       "1      DecisionTree  0.885853\n",
       "2               KNN  0.920235\n",
       "3     RF_Regression  0.940200"
      ]
     },
     "execution_count": 64,
     "metadata": {},
     "output_type": "execute_result"
    }
   ],
   "source": [
    "comp_table.head()"
   ]
  },
  {
   "cell_type": "markdown",
   "metadata": {},
   "source": [
    "As can be seen from the table above that the RF_Regression and the KNN models outperformed others with accuracy scores of 94.02% and 92.02% respectively. Thus, the RF_Regression model can be selected as best for the prediction of car prices."
   ]
  },
  {
   "cell_type": "markdown",
   "metadata": {},
   "source": [
    "### Next Step.. !!\n",
    "\n",
    "Prepare Report"
   ]
  }
 ],
 "metadata": {
  "kernelspec": {
   "display_name": "Python 3 (ipykernel)",
   "language": "python",
   "name": "python3"
  },
  "language_info": {
   "codemirror_mode": {
    "name": "ipython",
    "version": 3
   },
   "file_extension": ".py",
   "mimetype": "text/x-python",
   "name": "python",
   "nbconvert_exporter": "python",
   "pygments_lexer": "ipython3",
   "version": "3.9.7"
  }
 },
 "nbformat": 4,
 "nbformat_minor": 4
}
